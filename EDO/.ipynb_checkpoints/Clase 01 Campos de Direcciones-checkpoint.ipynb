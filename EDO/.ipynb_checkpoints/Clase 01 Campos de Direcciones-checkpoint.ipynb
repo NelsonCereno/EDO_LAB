{
 "cells": [
  {
   "cell_type": "code",
   "execution_count": null,
   "metadata": {},
   "outputs": [],
   "source": [
    "import numpy as np\n",
    "import matplotlib.pyplot as plt"
   ]
  },
  {
   "cell_type": "markdown",
   "metadata": {},
   "source": [
    "# Campos de direcciones e isoclinas\n",
    "\n",
    "## Campos de direcciones\n",
    "Los Campos de direcciones es una técnica sencilla pero útil para visualizar posibles soluciones a las ecuaciones diferenciales de primer orden. Se compone de líneas cortas que muestran la pendiente de la función incógnita en el plano $xy$. Este gráfico se puede producir fácilmente debido a que la pendiente de $y(x)$ en los puntos arbitrarios del plano $xy$ está dada por la definición misma de la EDO:\n",
    "$$\\dfrac{dy}{dx}=f(x,y)$$\n",
    "\n",
    "Es decir, que sólo tenemos que iterar sobre los valores $x$ e $y$ en la grilla de coordenadas de interés y evaluar $f(x,y)$ para saber la pendiente de $y$ en ese punto. Cuantos más segmentos de líneas trazamos en un campo de direcciones, más clara será la imagen. La razón por la cual el gráfico de campos de direcciones es útil, es que las curvas suaves y continuos que son tangentes a las líneas de pendiente en cada punto del gráfico, son las posibles soluciones a la Ecuación diferencial ordinaria.\n",
    "\n",
    "Por supuesto que calcular las pendientes y dibujar los segmentos de línea para un gran número de puntos a mano sería algo realmente tedioso, pero para eso existen las computadoras y `Python`. \n",
    "\n",
    "Consideremos el siguiente ejemplo:\n",
    "\n",
    "### Ejemplo 01\n",
    "\n",
    "Considere la EDO:\n",
    "\n",
    "$$y'=-y-\\sin(x)$$\n",
    "\n",
    "con la ayuda de `Python`, podemos graficar su campo de direcciones del siguiente modo:"
   ]
  },
  {
   "cell_type": "code",
   "execution_count": null,
   "metadata": {},
   "outputs": [],
   "source": [
    "X,Y=np.meshgrid(np.linspace(-5,5,20), np.linspace(-5,5,12))\n",
    "\n",
    "U = 1.0\n",
    "V = -Y-np.sin(X) #f(x,y)\n",
    "\n",
    "N = np.sqrt(U ** 2 + V ** 2)#Normalizamos los vectores\n",
    "U = U / N\n",
    "V = V / N\n",
    "\n",
    "plt.quiver(X, Y, U, V) #graficamos los vectores con origen en (x,y) y término (u,v)\n",
    "plt.xlim([-5, 5]) #limites en eje x\n",
    "plt.ylim([-5, 5]) #limites en eje y\n",
    "\n",
    "plt.xlabel('x') #etiqueta eje x\n",
    "plt.ylabel('y') #etiqueta eje y\n",
    "plt.grid()# para establecer red en la región"
   ]
  },
  {
   "cell_type": "markdown",
   "metadata": {},
   "source": [
    "Las líneas de dirección en el gráfico de arriba sugieren cómo las curvas que son soluciones a la EDO se van a comportar. Por lo tanto, los campos de direcciones son una herramienta muy útil para visualizar posibles soluciones para EDOs que no se pueden resolver analíticamente. \n",
    "\n",
    "## Curvas solución\n",
    "\n",
    "Una curva solución es la gráfica de una solución particular $y(x)$ de la EDO:\n",
    "\n",
    "$$\\dfrac{dy}{dx}=f(x,y),$$\n",
    "\n",
    "### Ejemplo 02\n",
    "\n",
    "Considere la EDO del ejemplo anterior:\n",
    "$$y'=-y-\\sin(x)$$\n",
    "\n",
    "cuya solución general es \n",
    "$$y(x)=\\dfrac{\\sin(x)+\\cos(x)}{2}+C e^{-x}$$.\n",
    "\n",
    "El campo de direcciones se muestra en la figura siguiente, junto con la gráfica de cuatro miembros de la familia de soluciones."
   ]
  },
  {
   "cell_type": "code",
   "execution_count": null,
   "metadata": {},
   "outputs": [],
   "source": [
    "X,Y=np.meshgrid(np.linspace(-5,5,20), np.linspace(-5,5,12))\n",
    "\n",
    "U = 1.0\n",
    "V = -Y-np.sin(X) #f(x,y)\n",
    "\n",
    "N = np.sqrt(U ** 2 + V ** 2)#Normalizamos los vectores\n",
    "U = U / N\n",
    "V = V / N\n",
    "\n",
    "plt.quiver(X, Y, U, V) #graficamos los vectores con origen en (x,y) y término (u,v)\n",
    "plt.xlim([-5, 5]) #limites en eje x\n",
    "plt.ylim([-5, 5]) #limites en eje y\n",
    "\n",
    "plt.xlabel('x') #etiqueta eje x\n",
    "plt.ylabel('y') #etiqueta eje y\n",
    "plt.grid()# para establecer red en la región\n",
    "\n",
    "x=np.linspace(-5,5, 200)\n",
    "y1=(np.sin(x)+np.cos(x))/2\n",
    "y2=(np.sin(x)+np.cos(x))/2+1*np.exp(-x)\n",
    "y3=(np.sin(x)+np.cos(x))/2-3*np.exp(-x)\n",
    "y4=(np.sin(x)+np.cos(x))/2+np.sqrt(7)*np.exp(-x)\n",
    "plt.plot(x,y1,color=(1,0.2,0.3))\n",
    "plt.plot(x,y2,color=(0.1,0.2,0.3))\n",
    "plt.plot(x,y3,color=(0.1,0.2,0.3))\n",
    "plt.plot(x,y4,color=(0.1,0.2,0.3))\n",
    "plt.show()"
   ]
  },
  {
   "cell_type": "markdown",
   "metadata": {},
   "source": [
    "Se puede apreciar que tres de las curvas convergen a una cuarta (color rojo). Esta cuarta curva es la solución que se obtiene al hacer $C=0$ en su solución general. \n",
    "\n",
    "### Ejemplo 03\n",
    "\n",
    "Considere la EDO:\n",
    "\n",
    "$$y'=x-4xy$$\n",
    "\n",
    "cuya solución general es $y=\\dfrac{1}{4}+Ce^{-2x^2}$.\n",
    "\n",
    "Graficamos su campo de direcciones y sus curvas solución para $C=1$ y $C=-1.5$:\n"
   ]
  },
  {
   "cell_type": "code",
   "execution_count": null,
   "metadata": {},
   "outputs": [],
   "source": [
    "X,Y=np.meshgrid(np.linspace(-2,2,20), np.linspace(-2,2,12))\n",
    "\n",
    "U = 1.0\n",
    "V = X-4*X*Y #f(x,y)\n",
    "\n",
    "N = np.sqrt(U ** 2 + V ** 2)#Normalizamos los vectores\n",
    "U = U / N\n",
    "V = V / N\n",
    "\n",
    "plt.quiver(X, Y, U, V) #graficamos los vectores con origen en (x,y) y término (u,v)\n",
    "plt.xlim([-2, 2]) #limites en eje x\n",
    "plt.ylim([-2, 2]) #limites en eje y\n",
    "\n",
    "plt.xlabel('x') #etiqueta eje x\n",
    "plt.ylabel('y') #etiqueta eje y\n",
    "plt.grid()# para establecer red en la región\n",
    "\n",
    "x=np.linspace(-2,2, 200)\n",
    "y1=1/4+1*np.exp(-2*x**2)\n",
    "y2=1/4-1.5*np.exp(-2*x**2)\n",
    "\n",
    "plt.plot(x,y1,color=(1,0.2,0.3),label=\"$C=1$\")\n",
    "plt.plot(x,y2,color=(0.1,0.2,0.3), label=\"$C=-1.5$\")\n",
    "plt.legend()\n",
    "plt.show()             "
   ]
  },
  {
   "cell_type": "markdown",
   "metadata": {},
   "source": [
    "## Ecuaciones diferenciales autónomas\n",
    "\n",
    "Una ecuación de la forma \n",
    "\n",
    "$$\\dfrac{dy}{dx}=f(y),$$ \n",
    "\n",
    "es decir, una ecuación diferencial de primer orden en donde $f$ depende sólo de la variable $y$ se denomina ecuación autónoma.\n",
    "\n",
    "### Ejemplo 04\n",
    "\n",
    "Considere la siguiente EDO autónoma:\n",
    "\n",
    "$$y'=\\arctan(y)[y^4-8y^2+16]$$\n",
    "\n",
    "Graficamos su campo de direcciones:"
   ]
  },
  {
   "cell_type": "code",
   "execution_count": null,
   "metadata": {},
   "outputs": [],
   "source": [
    "X,Y=np.meshgrid(np.linspace(-5,5,20), np.linspace(-5,5,15))\n",
    "\n",
    "U = 1.0\n",
    "V = np.arctan(Y)*(Y**4-8*Y**2+16) #f(x,y)\n",
    "\n",
    "N = np.sqrt(U ** 2 + V ** 2)#Normalizamos los vectores\n",
    "U = U / N\n",
    "V = V / N\n",
    "\n",
    "plt.quiver(X, Y, U, V) #graficamos los vectores con origen en (x,y) y término (u,v)\n",
    "plt.xlim([-5, 5]) #limites en eje x\n",
    "plt.ylim([-5, 5]) #limites en eje y\n",
    "\n",
    "plt.xlabel('x') #etiqueta eje x\n",
    "plt.ylabel('y') #etiqueta eje y\n",
    "plt.grid()# para establecer red en la región"
   ]
  },
  {
   "cell_type": "markdown",
   "metadata": {},
   "source": [
    "## Puntos de equilibrio\n",
    "\n",
    "Dada una EDO autónoma \n",
    "$$\\dfrac{dy}{dx}=f(y),$$ \n",
    "si ocurre que $f(y_0) = 0$ diremos que la recta $y = y_0$ es una solución de equilibrio de la EDO autónoma, y al valor $y_0$ lo denominamos punto de equilibrio.\n",
    "\n",
    "## Clasificación de puntos de equilibrio\n",
    "\n",
    "* Un punto de equilibrio $y_0$ se dirá sumidero o atractor si cualquier solución suficientemente cerca a $y = y_0$ tiende asintóticamente a $y_0$ a medida de que $x$ aumenta.\n",
    "\n",
    "* Un punto de equilibrio $y_0$ se dirá fuente o repulsor si cualquier solución suficientemente cerca a $y = y_0$ tiende asintóticamente a $y_0$ a medida de que $x$ decrece.\n",
    "\n",
    "* Un punto de equilibrio $y_0$ se dirá nodo si este no es fuente ni sumidero.\n",
    "\n",
    "### Ejemplo 05\n",
    "\n",
    "Respecto al ejemplo anterior, notamos que:\n",
    "*  $y=0$ es o repulsor.\n",
    "*  $y=2$ es o nodo.\n",
    "*  $y=-2$ es o nodo.\n",
    "\n",
    "\n",
    "## Ejercicios:\n",
    "\n",
    "### Ejercicio 01\n",
    "Considere la Ecuación Diferencial Ordinaria \n",
    "$$(x - y)dx - dy = 0$$\n",
    "- a) Grafique el campo de direcciones en la región $[-5,5] \\times [-5,5]$.\n",
    "- b) Grafique sobre el campo anterior las funciones:\n",
    "$$f(x)=e^{-x}+x-1 \\quad\\quad\\quad\\quad   g(x)=2e^{-x}-x+1$$\n",
    "en base al gráfico justifique si son soluciones de la EDO."
   ]
  },
  {
   "cell_type": "markdown",
   "metadata": {},
   "source": []
  },
  {
   "cell_type": "markdown",
   "metadata": {},
   "source": [
    "### Ejercicio 02\n",
    "Considere las siguientes EDOs autónomas:\n",
    "  * $y'= (y-3)\\ln(y^2+1)$\n",
    "  * $ (y-1)(3-y)dx-dy=0 $\n",
    "  * $y'=2-y$\n",
    "  * $y'=y-2$\n",
    "  * $y'=(y-1)^2$\n",
    "  * $y'=\\sin y$\n",
    "  \n",
    "- a) Grafique los campos de direcciones de las las EDOs. \n",
    "- b) Clasifique sus puntos de equilibrio."
   ]
  },
  {
   "cell_type": "code",
   "execution_count": null,
   "metadata": {},
   "outputs": [],
   "source": []
  },
  {
   "cell_type": "markdown",
   "metadata": {},
   "source": [
    "### Ejercicio 03\n",
    "\n",
    "Considere la EDO autónoma:\n",
    "\n",
    "$$ (y^2+3y-4)\\sqrt{y} dx - dy = 0 $$\n",
    "\n",
    "* b) Clasifique todos sus puntos de equilibrio.\n",
    "* c) Grafique el campo de direcciones asociado a la EDO autónoma.\n",
    "* d) En base al retrato de fase, determine $\\displaystyle\\lim_{x\\to \\infty} y$ para $y>1$.\n",
    "* e) Repita el proceso de d) esta vez para  $0<y<1$."
   ]
  },
  {
   "cell_type": "code",
   "execution_count": null,
   "metadata": {},
   "outputs": [],
   "source": []
  }
 ],
 "metadata": {
  "kernelspec": {
   "display_name": "Python 3",
   "language": "python",
   "name": "python3"
  },
  "language_info": {
   "codemirror_mode": {
    "name": "ipython",
    "version": 3
   },
   "file_extension": ".py",
   "mimetype": "text/x-python",
   "name": "python",
   "nbconvert_exporter": "python",
   "pygments_lexer": "ipython3",
   "version": "3.8.5"
  }
 },
 "nbformat": 4,
 "nbformat_minor": 5
}
