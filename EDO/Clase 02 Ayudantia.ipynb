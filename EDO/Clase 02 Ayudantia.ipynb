{
 "cells": [
  {
   "cell_type": "code",
   "execution_count": 2,
   "id": "da4e3298-fc62-470b-9975-dc00057e895a",
   "metadata": {},
   "outputs": [],
   "source": [
    "import matplotlib.pyplot as plt\n",
    "import numpy as np\n",
    "import sympy as sp"
   ]
  },
  {
   "cell_type": "markdown",
   "id": "38b09c57-0a66-40e1-aeef-fe06e547de51",
   "metadata": {},
   "source": [
    "# Incorporacion de Sympy al uso en python y scipy \n",
    "ya que aprendemos a usar sympy, recuerden que para el uso personal este debe de estar instalado, recuerden abrir su anaconda promp en el buscador de windows y usar:\n",
    "### pip install sympy==1.13.3 scipy==1.15.2\n",
    "\n",
    "### usando el ejemplo de la clase\n",
    "#### tenemos la funcion\n",
    "\n",
    "$$\\dfrac{dy}{dx}=-3x^2y+6x^2$$"
   ]
  },
  {
   "cell_type": "code",
   "execution_count": 1,
   "id": "cea55a66-f308-4b0c-aa66-4117da182627",
   "metadata": {},
   "outputs": [
    {
     "data": {
      "text/latex": [
       "$\\displaystyle \\frac{d}{d x} y{\\left(x \\right)} = - 3 x^{2} y{\\left(x \\right)} + 6 x^{2}$"
      ],
      "text/plain": [
       "d               2           2\n",
       "──(y(x)) = - 3⋅x ⋅y(x) + 6⋅x \n",
       "dx                           "
      ]
     },
     "execution_count": 1,
     "metadata": {},
     "output_type": "execute_result"
    }
   ],
   "source": [
    "import matplotlib.pyplot as plt\n",
    "import numpy as np\n",
    "import sympy as sp\n",
    "\n",
    "\n",
    "sp.init_printing(use_latex='mathjax') # Importamos el módulo de latex para imprimir con notación matemática.\n",
    "\n",
    "# definamos los simbolos con los que vamos a trabajar\n",
    "\n",
    "x = sp.Symbol('x', real=True) # symbol como dice es para definir simbolos, pero que tienen significado a ser las variables independientes\n",
    "y = sp.Function('y') # y a su vez function es para definir funciones\n",
    "\n",
    "\n",
    "#                                              D y(x)\n",
    "# Ordenemos la funcion a trabajar del modo que -----  este solo a un lado de la igualdad\n",
    "#                                               D x\n",
    "\n",
    "f = -3*(x**2)*y(x) + 6*(x**2) # en este caso usamos f\n",
    "\n",
    "sp.Eq(y(x).diff(x), f) # Eq es para mostrar la ecuacion, pero recive 2 parametros, del cual uno la derivada y por el otro la funcion"
   ]
  },
  {
   "cell_type": "markdown",
   "id": "a4e786b1-875f-4a2a-a820-ce4854873b8e",
   "metadata": {},
   "source": [
    "#### una ves escrita la resolvemos\n",
    "##### usando dsolve de sympy"
   ]
  },
  {
   "cell_type": "code",
   "execution_count": 2,
   "id": "126672af-dbc7-4953-b565-0b8b9211802e",
   "metadata": {},
   "outputs": [
    {
     "data": {
      "text/latex": [
       "$\\displaystyle y{\\left(x \\right)} = C_{1} e^{- x^{3}} + 2$"
      ],
      "text/plain": [
       "             3    \n",
       "           -x     \n",
       "y(x) = C₁⋅ℯ    + 2"
      ]
     },
     "execution_count": 2,
     "metadata": {},
     "output_type": "execute_result"
    }
   ],
   "source": [
    "# dsolve por otra parte solo recibe un argumento, del cual es la funcion completa, por lo que deberemos tener todo igualado a cero!\n",
    "# asi como definimos en Eq a la funcion tenemos que tener todo a un lado, entonces simplemente pasamos f restando\n",
    "\n",
    "sp.dsolve(y(x).diff(x) - f) # recibe la ecuacion general igualada a cero"
   ]
  },
  {
   "cell_type": "markdown",
   "id": "3d3a64a4-c917-4167-bc05-41eb99855035",
   "metadata": {},
   "source": [
    "# Pero!!! que pasa si existe una condicion inicial? :o\n",
    "bueno en estos casos dsolve como vieron tiene en sus parametros la opcion de agregar la condicion inicial entonces solo que que agregarlo en la funcion desolve, de la forma ics={f(x0):y0}"
   ]
  },
  {
   "cell_type": "code",
   "execution_count": 1,
   "id": "1e3e10e5-1d53-4222-9af5-f9b16e6d7878",
   "metadata": {},
   "outputs": [
    {
     "ename": "NameError",
     "evalue": "name 'sp' is not defined",
     "output_type": "error",
     "traceback": [
      "\u001b[1;31m---------------------------------------------------------------------------\u001b[0m",
      "\u001b[1;31mNameError\u001b[0m                                 Traceback (most recent call last)",
      "Cell \u001b[1;32mIn[1], line 1\u001b[0m\n\u001b[1;32m----> 1\u001b[0m sp\u001b[38;5;241m.\u001b[39mdsolve(y(x)\u001b[38;5;241m.\u001b[39mdiff(x) \u001b[38;5;241m-\u001b[39m f, ics\u001b[38;5;241m=\u001b[39m{y(\u001b[38;5;241m1\u001b[39m):\u001b[38;5;241m3\u001b[39m})\n",
      "\u001b[1;31mNameError\u001b[0m: name 'sp' is not defined"
     ]
    }
   ],
   "source": [
    "sp.dsolve(y(x).diff(x) - f, ics={y(1):3})"
   ]
  },
  {
   "cell_type": "markdown",
   "id": "c56c7ab4-1178-4027-9ee1-afa97c622f53",
   "metadata": {},
   "source": [
    "# ejercicios a hacer"
   ]
  },
  {
   "cell_type": "markdown",
   "id": "22313d70-6e6c-499e-882b-2f2d0fcf109a",
   "metadata": {},
   "source": [
    "1. EDO lineal homogénea  \n",
    "$$\\frac{dy}{dx} + 2y = 0$$\n",
    "\n",
    "2. EDO lineal no homogénea  \n",
    "$$\\frac{dy}{dx} + y = e^{-x}$$\n",
    "\n",
    "3. EDO separable  \n",
    "$$\\frac{dy}{dx} = \\frac{x^2}{y}$$\n",
    "\n",
    "4. EDO exacta  \n",
    "$$(2x + y^2) + 2xy \\frac{dy}{dx} = 0$$\n",
    "\n",
    "5. EDO no exacta  \n",
    "$$(x^2 + y^2 + 1) + xy \\frac{dy}{dx} = 0$$\n",
    "\n",
    "6. PVI  \n",
    "$$\\frac{dy}{dx} = 3x^2 y, \\quad y(0) = 5$$\n",
    "\n",
    "7. EDO trigonométrica  \n",
    "$$\\frac{dy}{dx} = \\sin(x) - y \\tan(x)$$\n",
    "\n",
    "8. EDO de Bernoulli  \n",
    "$$\\frac{dy}{dx} + y = xy^2$$\n",
    "\n",
    "9. EDO exponencial  \n",
    "$$\\frac{dy}{dx} = e^{x - y}$$\n",
    "\n",
    "10. EDO logarítmica  \n",
    "$$\\frac{dy}{dx} = \\frac{\\ln(x)}{y}$$\n",
    "\n",
    "11. EDO exacta (diferencial)  \n",
    "$$(e^x + y) + (x + \\sin(y)) \\frac{dy}{dx} = 0$$\n",
    "\n",
    "12. PVI con condición  \n",
    "$$\\frac{dy}{dx} = \\frac{2x}{y + x^2 y}, \\quad y(0) = 1$$\n",
    "\n",
    "13. EDO con raíz  \n",
    "$$\\frac{dy}{dx} = \\sqrt{x + y}$$\n",
    "\n",
    "14. EDO homogénea  \n",
    "$$\\frac{dy}{dx} = \\frac{y^2 + xy}{x^2}$$\n",
    "\n",
    "15. EDO cúbica  \n",
    "$$\\frac{dy}{dx} = x^3 - 2xy$$\n",
    "\n",
    "16. PVI trigonométrico  \n",
    "$$\\frac{dy}{dx} = y \\cos(x), \\quad y(0) = 3$$\n",
    "\n",
    "17. EDO racional  \n",
    "$$\\frac{dy}{dx} = \\frac{x^2 + y^2}{xy}$$\n",
    "\n",
    "18. EDO con valor absoluto  \n",
    "$$\\frac{dy}{dx} = |x| - y$$\n",
    "\n",
    "19. EDO exacta (exponencial/trig)  \n",
    "$$(e^x \\sin(y) + 2x) + (e^x \\cos(y)) \\frac{dy}{dx} = 0$$\n",
    "\n",
    "20. PVI en x=1  \n",
    "$$\\frac{dy}{dx} = \\frac{1}{x^2 y}, \\quad y(1) = 4$$"
   ]
  },
  {
   "cell_type": "markdown",
   "id": "212cbf81-82de-4884-a47b-09da1f5322a5",
   "metadata": {},
   "source": [
    "# ejercicio 1"
   ]
  },
  {
   "cell_type": "code",
   "execution_count": 8,
   "id": "fbc48854-8fe6-43c7-852b-e772ebf319ea",
   "metadata": {},
   "outputs": [
    {
     "data": {
      "text/latex": [
       "$\\displaystyle \\frac{d}{d x} y{\\left(x \\right)} = - 2 y{\\left(x \\right)}$"
      ],
      "text/plain": [
       "d                 \n",
       "──(y(x)) = -2⋅y(x)\n",
       "dx                "
      ]
     },
     "execution_count": 8,
     "metadata": {},
     "output_type": "execute_result"
    }
   ],
   "source": [
    "sp.init_printing(use_latex='mathjax') # Importamos el módulo de latex para imprimir con notación matemática.\n",
    "\n",
    "# definamos los simbolos con los que vamos a trabajar\n",
    "\n",
    "x = sp.Symbol('x', real=True) # symbol como dice es para definir simbolos, pero que tienen significado a ser las variables independientes\n",
    "y = sp.Function('y') # y a su vez function es para definir funciones\n",
    "\n",
    "\n",
    "#                                              D y(x)\n",
    "# Ordenemos la funcion a trabajar del modo que -----  este solo a un lado de la igualdad\n",
    "#                                               D x\n",
    "\n",
    "f = -2*y(x) # en este caso usamos f\n",
    "\n",
    "sp.Eq(y(x).diff(x), f) # Eq es para mostrar la ecuacion, pero recive 2 parametros, del cual uno la derivada y por el otro la funcion"
   ]
  },
  {
   "cell_type": "code",
   "execution_count": 4,
   "id": "39e2062b-e484-48e7-a0c4-62ebd88188bc",
   "metadata": {},
   "outputs": [
    {
     "data": {
      "text/latex": [
       "$\\displaystyle y{\\left(x \\right)} = C_{1} e^{- 2 x}$"
      ],
      "text/plain": [
       "           -2⋅x\n",
       "y(x) = C₁⋅ℯ    "
      ]
     },
     "execution_count": 4,
     "metadata": {},
     "output_type": "execute_result"
    }
   ],
   "source": [
    "sp.dsolve(y(x).diff(x) - f)"
   ]
  },
  {
   "cell_type": "markdown",
   "id": "8e47bb8f-edf4-4e89-8ac8-ed73f9d849d3",
   "metadata": {},
   "source": [
    "# Ejercicio 2\n"
   ]
  },
  {
   "cell_type": "code",
   "execution_count": 6,
   "id": "5d1ac27d-30fc-4148-b826-b2efaa96f217",
   "metadata": {},
   "outputs": [
    {
     "data": {
      "text/latex": [
       "$\\displaystyle \\frac{d}{d x} y{\\left(x \\right)} = - y{\\left(x \\right)} + e^{- x}$"
      ],
      "text/plain": [
       "d                   -x\n",
       "──(y(x)) = -y(x) + ℯ  \n",
       "dx                    "
      ]
     },
     "execution_count": 6,
     "metadata": {},
     "output_type": "execute_result"
    }
   ],
   "source": [
    "sp.init_printing(use_latex='mathjax') # Importamos el módulo de latex para imprimir con notación matemática.\n",
    "\n",
    "# definamos los simbolos con los que vamos a trabajar\n",
    "\n",
    "x = sp.Symbol('x', real=True) # symbol como dice es para definir simbolos, pero que tienen significado a ser las variables independientes\n",
    "y = sp.Function('y') # y a su vez function es para definir funciones\n",
    "\n",
    "\n",
    "#                                              D y(x)\n",
    "# Ordenemos la funcion a trabajar del modo que -----  este solo a un lado de la igualdad\n",
    "#                                               D x\n",
    "\n",
    "f = sp.exp(-x) - y(x)# en este caso usamos f\n",
    "\n",
    "sp.Eq(y(x).diff(x), f) # Eq es para mostrar la ecuacion, pero recive 2 parametros, del cual uno la derivada y por el otro la funcion"
   ]
  },
  {
   "cell_type": "code",
   "execution_count": 7,
   "id": "f409f141-201d-4900-b592-3d0e4bf35940",
   "metadata": {},
   "outputs": [
    {
     "data": {
      "text/latex": [
       "$\\displaystyle y{\\left(x \\right)} = \\left(C_{1} + x\\right) e^{- x}$"
      ],
      "text/plain": [
       "                 -x\n",
       "y(x) = (C₁ + x)⋅ℯ  "
      ]
     },
     "execution_count": 7,
     "metadata": {},
     "output_type": "execute_result"
    }
   ],
   "source": [
    "sp.dsolve(y(x).diff(x) - f)"
   ]
  },
  {
   "cell_type": "markdown",
   "id": "2178bd52-8e4d-45ad-af16-c37762d45695",
   "metadata": {},
   "source": [
    "# ejercicio 3"
   ]
  },
  {
   "cell_type": "code",
   "execution_count": 9,
   "id": "e1d753d5-3e63-4ae4-9c53-82911bf28d59",
   "metadata": {},
   "outputs": [
    {
     "data": {
      "text/latex": [
       "$\\displaystyle \\frac{d}{d x} y{\\left(x \\right)} = \\frac{x^{2}}{y{\\left(x \\right)}}$"
      ],
      "text/plain": [
       "             2 \n",
       "d           x  \n",
       "──(y(x)) = ────\n",
       "dx         y(x)"
      ]
     },
     "execution_count": 9,
     "metadata": {},
     "output_type": "execute_result"
    }
   ],
   "source": [
    "sp.init_printing(use_latex='mathjax') # Importamos el módulo de latex para imprimir con notación matemática.\n",
    "\n",
    "# definamos los simbolos con los que vamos a trabajar\n",
    "\n",
    "x = sp.Symbol('x', real=True) # symbol como dice es para definir simbolos, pero que tienen significado a ser las variables independientes\n",
    "y = sp.Function('y') # y a su vez function es para definir funciones\n",
    "\n",
    "\n",
    "#                                              D y(x)\n",
    "# Ordenemos la funcion a trabajar del modo que -----  este solo a un lado de la igualdad\n",
    "#                                               D x\n",
    "\n",
    "f = (x**2)/y(x) # en este caso usamos f\n",
    "\n",
    "sp.Eq(y(x).diff(x), f) # Eq es para mostrar la ecuacion, pero recive 2 parametros, del cual uno la derivada y por el otro la funcion"
   ]
  },
  {
   "cell_type": "code",
   "execution_count": 10,
   "id": "6c9e884d-3a27-47ba-aa67-9fc35aacd0e2",
   "metadata": {},
   "outputs": [
    {
     "data": {
      "text/latex": [
       "$\\displaystyle \\left[ y{\\left(x \\right)} = - \\frac{\\sqrt{C_{1} + 6 x^{3}}}{3}, \\  y{\\left(x \\right)} = \\frac{\\sqrt{C_{1} + 6 x^{3}}}{3}\\right]$"
      ],
      "text/plain": [
       "⎡           ___________             ___________⎤\n",
       "⎢          ╱         3             ╱         3 ⎥\n",
       "⎢       -╲╱  C₁ + 6⋅x            ╲╱  C₁ + 6⋅x  ⎥\n",
       "⎢y(x) = ────────────────, y(x) = ──────────────⎥\n",
       "⎣              3                       3       ⎦"
      ]
     },
     "execution_count": 10,
     "metadata": {},
     "output_type": "execute_result"
    }
   ],
   "source": [
    "sp.dsolve(y(x).diff(x) - f)"
   ]
  },
  {
   "cell_type": "markdown",
   "id": "7531c762-8ec9-49ee-a4d9-6e5ba67e6bb7",
   "metadata": {},
   "source": [
    "# ejercicio 4"
   ]
  },
  {
   "cell_type": "code",
   "execution_count": 11,
   "id": "047d0003-4a0c-4ff2-bb08-bbc1b4d87f09",
   "metadata": {},
   "outputs": [
    {
     "data": {
      "text/latex": [
       "$\\displaystyle \\frac{d}{d x} y{\\left(x \\right)} = \\frac{2 x + y^{2}{\\left(x \\right)}}{2 x y{\\left(x \\right)}}$"
      ],
      "text/plain": [
       "                  2   \n",
       "d          2⋅x + y (x)\n",
       "──(y(x)) = ───────────\n",
       "dx          2⋅x⋅y(x)  "
      ]
     },
     "execution_count": 11,
     "metadata": {},
     "output_type": "execute_result"
    }
   ],
   "source": [
    "sp.init_printing(use_latex='mathjax') # Importamos el módulo de latex para imprimir con notación matemática.\n",
    "\n",
    "# definamos los simbolos con los que vamos a trabajar\n",
    "\n",
    "x = sp.Symbol('x', real=True) # symbol como dice es para definir simbolos, pero que tienen significado a ser las variables independientes\n",
    "y = sp.Function('y') # y a su vez function es para definir funciones\n",
    "\n",
    "\n",
    "#                                              D y(x)\n",
    "# Ordenemos la funcion a trabajar del modo que -----  este solo a un lado de la igualdad\n",
    "#                                               D x\n",
    "\n",
    "f = (2*x + (y(x)**2))/(2*x*y(x)) # en este caso usamos f\n",
    "\n",
    "sp.Eq(y(x).diff(x), f) # Eq es para mostrar la ecuacion, pero recive 2 parametros, del cual uno la derivada y por el otro la funcion"
   ]
  },
  {
   "cell_type": "code",
   "execution_count": 12,
   "id": "01097983-8d43-48cd-9682-4cd1f30831a2",
   "metadata": {},
   "outputs": [
    {
     "data": {
      "text/latex": [
       "$\\displaystyle \\left[ y{\\left(x \\right)} = - \\sqrt{x \\left(C_{1} + 2 \\log{\\left(x \\right)}\\right)}, \\  y{\\left(x \\right)} = \\sqrt{x \\left(C_{1} + 2 \\log{\\left(x \\right)}\\right)}\\right]$"
      ],
      "text/plain": [
       "⎡          ___________________           ___________________⎤\n",
       "⎣y(x) = -╲╱ x⋅(C₁ + 2⋅log(x)) , y(x) = ╲╱ x⋅(C₁ + 2⋅log(x)) ⎦"
      ]
     },
     "execution_count": 12,
     "metadata": {},
     "output_type": "execute_result"
    }
   ],
   "source": [
    "sp.dsolve(y(x).diff(x) - f)"
   ]
  },
  {
   "cell_type": "markdown",
   "id": "8dc13473-60ab-4e9d-bd97-cbcfe0b93b61",
   "metadata": {},
   "source": [
    "# AQUI TIENES QUE HACER EL EJERCICIO 5"
   ]
  },
  {
   "cell_type": "code",
   "execution_count": null,
   "id": "058a2084-3dd4-460c-a80e-fae259d0505d",
   "metadata": {},
   "outputs": [],
   "source": []
  },
  {
   "cell_type": "markdown",
   "id": "fb0ef68f-098b-44e6-b623-eed1f62ad1a3",
   "metadata": {},
   "source": [
    "# EJERCICIO 6"
   ]
  },
  {
   "cell_type": "code",
   "execution_count": 29,
   "id": "c024c2d5-d6eb-4b19-b81b-48e69d200103",
   "metadata": {},
   "outputs": [
    {
     "data": {
      "text/latex": [
       "$\\displaystyle \\frac{d^{2}}{d x^{2}} y{\\left(x \\right)} = 3 x^{2} y{\\left(x \\right)}$"
      ],
      "text/plain": [
       " 2                   \n",
       "d              2     \n",
       "───(y(x)) = 3⋅x ⋅y(x)\n",
       "  2                  \n",
       "dx                   "
      ]
     },
     "execution_count": 29,
     "metadata": {},
     "output_type": "execute_result"
    }
   ],
   "source": [
    "sp.init_printing(use_latex='mathjax') # Importamos el módulo de latex para imprimir con notación matemática.\n",
    "\n",
    "# definamos los simbolos con los que vamos a trabajar\n",
    "\n",
    "x = sp.Symbol('x', real=True) # symbol como dice es para definir simbolos, pero que tienen significado a ser las variables independientes\n",
    "y = sp.Function('y') # y a su vez function es para definir funciones\n",
    "\n",
    "\n",
    "#                                              D y(x)\n",
    "# Ordenemos la funcion a trabajar del modo que -----  este solo a un lado de la igualdad\n",
    "#                                               D x\n",
    "\n",
    "f = 3*(x**2)*y(x) # en este caso usamos f\n",
    "\n",
    "sp.Eq(y(x).diff(x).diff(x), f) # Eq es para mostrar la ecuacion, pero recive 2 parametros, del cual uno la derivada y por el otro la funcion"
   ]
  },
  {
   "cell_type": "code",
   "execution_count": 16,
   "id": "787df751-42f8-4ec6-bf65-9f2659cc4246",
   "metadata": {},
   "outputs": [
    {
     "data": {
      "text/latex": [
       "$\\displaystyle y{\\left(x \\right)} = 5 e^{x^{3}}$"
      ],
      "text/plain": [
       "          ⎛ 3⎞\n",
       "          ⎝x ⎠\n",
       "y(x) = 5⋅ℯ    "
      ]
     },
     "execution_count": 16,
     "metadata": {},
     "output_type": "execute_result"
    }
   ],
   "source": [
    "# y(0) = 5\n",
    "\n",
    "sp.dsolve(y(x).diff(x) - f, ics{y(0):5}"
   ]
  },
  {
   "cell_type": "markdown",
   "id": "ee231a87-4fb4-450a-a618-f6af00ca38b6",
   "metadata": {},
   "source": [
    "# -------------------------------------------------------------------------------------------\n",
    "# uso de scipy"
   ]
  },
  {
   "cell_type": "code",
   "execution_count": 22,
   "id": "52e9e1c2-8d2e-4063-9387-19aa94181599",
   "metadata": {},
   "outputs": [
    {
     "data": {
      "text/latex": [
       "$\\displaystyle \\frac{x^{3}}{3}$"
      ],
      "text/plain": [
       " 3\n",
       "x \n",
       "──\n",
       "3 "
      ]
     },
     "execution_count": 22,
     "metadata": {},
     "output_type": "execute_result"
    }
   ],
   "source": [
    "import sympy as sp\n",
    "\n",
    "sp.init_printing(use_latex='mathjax') # Importamos el módulo de latex para imprimir con notación matemática.\n",
    "\n",
    "# definamos los simbolos con los que vamos a trabajar\n",
    "\n",
    "x = sp.Symbol('x', real=True) # symbol como dice es para definir simbolos, pero que tienen significado a ser las variables independientes\n",
    "y = sp.Function('y') # y a su vez function es para definir funciones\n",
    "\n",
    "\n",
    "#                                              D y(x)\n",
    "# Ordenemos la funcion a trabajar del modo que -----  este solo a un lado de la igualdad\n",
    "#                                               D x\n",
    "\n",
    "f = (x**2) # en este caso usamos f\n",
    "g = y(x)\n",
    "\n",
    "sp.integrate(f, x)"
   ]
  },
  {
   "cell_type": "code",
   "execution_count": 23,
   "id": "329d15c0-3ae1-4b8c-939b-2f7755d0777b",
   "metadata": {},
   "outputs": [
    {
     "data": {
      "text/latex": [
       "$\\displaystyle \\frac{y^{2}{\\left(x \\right)}}{2}$"
      ],
      "text/plain": [
       " 2   \n",
       "y (x)\n",
       "─────\n",
       "  2  "
      ]
     },
     "execution_count": 23,
     "metadata": {},
     "output_type": "execute_result"
    }
   ],
   "source": [
    "sp.integrate(g, y(x))"
   ]
  },
  {
   "cell_type": "code",
   "execution_count": 28,
   "id": "b5d56d3b-d99b-4c21-9eda-fa9d410aa2a2",
   "metadata": {},
   "outputs": [
    {
     "data": {
      "text/latex": [
       "$\\displaystyle \\left[ - \\frac{\\sqrt{- 18 C + 6 x^{3}}}{3}, \\  \\frac{\\sqrt{- 18 C + 6 x^{3}}}{3}\\right]$"
      ],
      "text/plain": [
       "⎡    ______________      ______________⎤\n",
       "⎢   ╱            3      ╱            3 ⎥\n",
       "⎢-╲╱  -18⋅C + 6⋅x     ╲╱  -18⋅C + 6⋅x  ⎥\n",
       "⎢───────────────────, ─────────────────⎥\n",
       "⎣         3                   3        ⎦"
      ]
     },
     "execution_count": 28,
     "metadata": {},
     "output_type": "execute_result"
    }
   ],
   "source": [
    "from sympy.abc import C\n",
    "\n",
    "l = ((y(x)**2)/2) - ((x**3)/3) + C\n",
    "\n",
    "sp.solve(l, y(x))"
   ]
  },
  {
   "cell_type": "code",
   "execution_count": null,
   "id": "995133e3-4823-4779-ae9d-b250f316f366",
   "metadata": {},
   "outputs": [],
   "source": []
  }
 ],
 "metadata": {
  "kernelspec": {
   "display_name": "Python 3 (ipykernel)",
   "language": "python",
   "name": "python3"
  },
  "language_info": {
   "codemirror_mode": {
    "name": "ipython",
    "version": 3
   },
   "file_extension": ".py",
   "mimetype": "text/x-python",
   "name": "python",
   "nbconvert_exporter": "python",
   "pygments_lexer": "ipython3",
   "version": "3.12.9"
  }
 },
 "nbformat": 4,
 "nbformat_minor": 5
}
