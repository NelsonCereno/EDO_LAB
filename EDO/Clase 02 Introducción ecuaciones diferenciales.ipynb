{
 "cells": [
  {
   "cell_type": "markdown",
   "metadata": {},
   "source": [
    "# Ecuaciones diferenciales con `Python`\n",
    "Mientras que algunos problemas de Ecuaciones diferenciales ordinarias se pueden resolver con métodos analíticos, como deben haber visto en cátedra, son mucho más comunes los problemas que no se pueden resolver analíticamente. Por lo tanto, en estos casos debemos recurrir a los métodos numéricos. Es aquí, dónde el poder de las computadoras y en especial, de los paquetes científicos de `Python` como `NumPy`, `Matplotlib`, `SymPy` y `SciPy`, se vuelven sumamente útiles. Veamos como podemos utilizar la fuerza computacional para resolver Ecuaciones diferenciales.\n",
    "\n",
    "## Soluciones analíticas con `Python`\n",
    "`SymPy` nos proporciona un solucionador genérico de Ecuaciones diferenciales ordinarias, `sympy.dsolve`, el cual es capaz de encontrar soluciones analíticas a muchas EDOs elementales. Mientras `sympy.dsolve` se puede utilizar para resolver muchas EDOs sencillas simbólicamente, como veremos a continuación, debemos tener en cuenta que la mayoría de las EDOs no se pueden resolver analíticamente. Por ejemplo, retomando el ejemplo que resolvimos analíticamente más arriba, veamos si llegamos al mismo resultado utilizando `SymPy` para solucionar la siguiente Ecuación diferencial ordinaria:\n",
    "\n",
    "$$\\dfrac{dy}{dx}=-3x^2y+6x^2$$\n",
    "\n",
    "Para ello, primero definimos:\n",
    "* la variable $x$ utilizando el objeto `Symbol`.\n",
    "* la variable $y$, que al ser una función, obviamente debe definirse como objeto `Function`.\n",
    "\n",
    "Luego expresamos en `Python` la ecuación que define a la función:"
   ]
  },
  {
   "cell_type": "code",
   "execution_count": 2,
   "metadata": {},
   "outputs": [
    {
     "data": {
      "text/latex": [
       "$\\displaystyle \\frac{d}{d x} y{\\left(x \\right)} = - 3 x^{2} y{\\left(x \\right)} + 6 x^{2}$"
      ],
      "text/plain": [
       "d               2           2\n",
       "──(y(x)) = - 3⋅x ⋅y(x) + 6⋅x \n",
       "dx                           "
      ]
     },
     "execution_count": 2,
     "metadata": {},
     "output_type": "execute_result"
    }
   ],
   "source": [
    "import matplotlib.pyplot as plt\n",
    "import numpy as np\n",
    "import sympy as sp\n",
    "from sympy import *\n",
    "from scipy import integrate\n",
    "sp.init_printing(use_latex='mathjax') # Importamos el módulo de latex para imprimir con notación matemática.\n",
    "\n",
    "# Resolviendo ecuación diferencial\n",
    "# defino las incognitas\n",
    "x = sp.Symbol('x', real=True )\n",
    "y = sp.Function('y')\n",
    "\n",
    "# expreso la ecuacion\n",
    "f = 6*x**2 - 3*x**2*(y(x))\n",
    "\n",
    "#Python no tiene ni dy ni dx\n",
    "\n",
    "# para definir la ecuacion diferencial, se usa .diff(x) para indicar la derivada respecto a x y en vez de signo \"=\"\n",
    "# se usa una \",\"\n",
    "sp.Eq(y(x).diff(x), f)"
   ]
  },
  {
   "cell_type": "markdown",
   "metadata": {},
   "source": [
    " Ahora sólo falta aplicar la función `dsolve` para resolver nuestra EDO:"
   ]
  },
  {
   "cell_type": "code",
   "execution_count": 3,
   "metadata": {},
   "outputs": [
    {
     "data": {
      "text/latex": [
       "$\\displaystyle y{\\left(x \\right)} = C_{1} e^{- x^{3}} + 2$"
      ],
      "text/plain": [
       "             3    \n",
       "           -x     \n",
       "y(x) = C₁⋅ℯ    + 2"
      ]
     },
     "execution_count": 3,
     "metadata": {},
     "output_type": "execute_result"
    }
   ],
   "source": [
    "# Resolviendo la ecuación\n",
    "#                dy/dx - f = 0\n",
    "sp.dsolve(y(x).diff(x) - f)"
   ]
  },
  {
   "cell_type": "markdown",
   "metadata": {},
   "source": [
    "Siguiendo el mismo procedimiento, podemos resolver otras EDOs. Consideremos el ejemplo visto en clases:\n",
    "\n",
    "### Ejemplo 01\n",
    "\n",
    "Determine la solución de la EDO:\n",
    "$$(3x^2+6xy^2)dx+(6x^2y+4y^3)dy=0.$$\n",
    "\n",
    "Para resolver la EDO usando `Python` realizamos el siguiente procedimiento:"
   ]
  },
  {
   "cell_type": "code",
   "execution_count": 4,
   "metadata": {},
   "outputs": [
    {
     "data": {
      "text/latex": [
       "$\\displaystyle 3 x^{2} + 6 x y^{2}{\\left(x \\right)} + \\left(6 x^{2} y{\\left(x \\right)} + 4 y^{3}{\\left(x \\right)}\\right) \\frac{d}{d x} y{\\left(x \\right)}$"
      ],
      "text/plain": [
       "   2        2      ⎛   2           3   ⎞ d       \n",
       "3⋅x  + 6⋅x⋅y (x) + ⎝6⋅x ⋅y(x) + 4⋅y (x)⎠⋅──(y(x))\n",
       "                                         dx      "
      ]
     },
     "execution_count": 4,
     "metadata": {},
     "output_type": "execute_result"
    }
   ],
   "source": [
    "g=3*x**2+6*x*y(x)**2+(6*x**2*y(x)+4*y(x)**3)*y(x).diff(x) #declaramos la función\n",
    "g #la imprimimos para revisar que no hemos cometido errores de tipeo"
   ]
  },
  {
   "cell_type": "code",
   "execution_count": 5,
   "metadata": {},
   "outputs": [],
   "source": [
    "#resuelve una ecuacion diferencial\n",
    "#sp.dsolve(g,0) #la resolvemos"
   ]
  },
  {
   "cell_type": "code",
   "execution_count": 6,
   "metadata": {},
   "outputs": [
    {
     "name": "stdout",
     "output_type": "stream",
     "text": [
      "1.13.3\n"
     ]
    }
   ],
   "source": [
    "import sympy\n",
    "print(sympy.__version__)"
   ]
  },
  {
   "cell_type": "markdown",
   "metadata": {},
   "source": [
    "El resultado que hemos obtenido parece difícil de interpretar, pero si revisamos la resolución vista en clases:\n",
    "\n",
    "$$x^3+3x^2y^2+y^4=C, \\quad\\quad\\quad c\\in\\mathbb{R}$$\n",
    "\n",
    "podemos pensar que hay algún error, sin embargo si despejamos $y$ en términos de $x$, en el ejemplo anterior, tendremos: "
   ]
  },
  {
   "cell_type": "code",
   "execution_count": 7,
   "metadata": {},
   "outputs": [
    {
     "data": {
      "text/latex": [
       "$\\displaystyle \\left[ - \\sqrt{- \\frac{3 x^{2}}{2} - \\frac{\\sqrt{4 C + 9 x^{4} - 4 x^{3}}}{2}}, \\  \\sqrt{- \\frac{3 x^{2}}{2} - \\frac{\\sqrt{4 C + 9 x^{4} - 4 x^{3}}}{2}}, \\  - \\sqrt{- \\frac{3 x^{2}}{2} + \\frac{\\sqrt{4 C + 9 x^{4} - 4 x^{3}}}{2}}, \\  \\sqrt{- \\frac{3 x^{2}}{2} + \\frac{\\sqrt{4 C + 9 x^{4} - 4 x^{3}}}{2}}\\right]$"
      ],
      "text/plain": [
       "⎡       _________________________________        _____________________________ ↪\n",
       "⎢      ╱             ___________________        ╱             ________________ ↪\n",
       "⎢     ╱       2     ╱          4      3        ╱       2     ╱          4      ↪\n",
       "⎢    ╱     3⋅x    ╲╱  4⋅C + 9⋅x  - 4⋅x        ╱     3⋅x    ╲╱  4⋅C + 9⋅x  - 4⋅ ↪\n",
       "⎢-  ╱    - ──── - ────────────────────── ,   ╱    - ──── - ─────────────────── ↪\n",
       "⎣ ╲╱        2               2              ╲╱        2               2         ↪\n",
       "\n",
       "↪ ____         _________________________________        ______________________ ↪\n",
       "↪ ___         ╱             ___________________        ╱             _________ ↪\n",
       "↪  3         ╱       2     ╱          4      3        ╱       2     ╱          ↪\n",
       "↪ x         ╱     3⋅x    ╲╱  4⋅C + 9⋅x  - 4⋅x        ╱     3⋅x    ╲╱  4⋅C + 9⋅ ↪\n",
       "↪ ─── , -  ╱    - ──── + ────────────────────── ,   ╱    - ──── + ──────────── ↪\n",
       "↪        ╲╱        2               2              ╲╱        2               2  ↪\n",
       "\n",
       "↪ ___________⎤\n",
       "↪ __________ ⎥\n",
       "↪  4      3  ⎥\n",
       "↪ x  - 4⋅x   ⎥\n",
       "↪ ────────── ⎥\n",
       "↪            ⎦"
      ]
     },
     "execution_count": 7,
     "metadata": {},
     "output_type": "execute_result"
    }
   ],
   "source": [
    "from sympy.abc import C #identificamos a C como una constante simbólica\n",
    "\n",
    "#despeja una variable arbitraria de una ecuación que definamos de una ecuacion ordinaria \n",
    "                                       #se  despeja en terminos de y(x)\n",
    "sp.solve(x**3+3*x**2*y(x)**2+y(x)**4-C,y(x)) #resolvemos la ecuación en términos de y(x)"
   ]
  },
  {
   "cell_type": "markdown",
   "metadata": {},
   "source": [
    "Notamos que son el mismo resultado!\n",
    "\n",
    "Notamos también que debemos que ser capaces de identificar cuando los resultados son iguales, a pesar de que las expresiones se representen de manera diferente.\n",
    "\n",
    "## Comprobación\n",
    "\n",
    "Podemos comprobar los resultados de nuestros cálculos con la ayuda de Python. Consideremos para ello el siguiente ejemplo:\n",
    "\n",
    "### Ejemplo 02\n",
    "\n",
    "Resolver la EDO vista en clases:\n",
    "\n",
    "$$\\dfrac{dy}{dx} =3x^2y \\quad\\quad\\quad\\quad y(1)=2$$\n",
    "\n",
    "Compruebe sus resultados.\n",
    "\n",
    "Para ello primero declaramos la ecuación:"
   ]
  },
  {
   "cell_type": "code",
   "execution_count": 8,
   "metadata": {},
   "outputs": [
    {
     "data": {
      "text/latex": [
       "$\\displaystyle - 3 x^{2} y{\\left(x \\right)} + \\frac{d}{d x} y{\\left(x \\right)}$"
      ],
      "text/plain": [
       "     2        d       \n",
       "- 3⋅x ⋅y(x) + ──(y(x))\n",
       "              dx      "
      ]
     },
     "execution_count": 8,
     "metadata": {},
     "output_type": "execute_result"
    }
   ],
   "source": [
    "#esto es para verificar si esta bien declarada\n",
    "Eq = sp.diff(y(x),x)-3*x**2*y(x)\n",
    "Eq\n",
    "#sp.dsolve(Eq, ics={y(1):2})"
   ]
  },
  {
   "cell_type": "markdown",
   "metadata": {},
   "source": [
    "La resolvemos:\n",
    "($y(x)$ es la solución general de la EDO)."
   ]
  },
  {
   "cell_type": "code",
   "execution_count": 9,
   "metadata": {},
   "outputs": [
    {
     "data": {
      "text/latex": [
       "$\\displaystyle y{\\left(x \\right)} = C_{1} e^{x^{3}}$"
      ],
      "text/plain": [
       "           ⎛ 3⎞\n",
       "           ⎝x ⎠\n",
       "y(x) = C₁⋅ℯ    "
      ]
     },
     "execution_count": 9,
     "metadata": {},
     "output_type": "execute_result"
    }
   ],
   "source": [
    "#se resuelve la ecuación diferencial\n",
    "sp.dsolve(Eq)"
   ]
  },
  {
   "cell_type": "markdown",
   "metadata": {},
   "source": [
    "Ahora calculamos la constante con la ayuda de la condición inicial (Aquí $y(x)$ es la solución particular):"
   ]
  },
  {
   "cell_type": "code",
   "execution_count": 10,
   "metadata": {},
   "outputs": [
    {
     "data": {
      "text/latex": [
       "$\\displaystyle y{\\left(x \\right)} = \\frac{2 e^{x^{3}}}{e}$"
      ],
      "text/plain": [
       "              ⎛ 3⎞\n",
       "          -1  ⎝x ⎠\n",
       "y(x) = 2⋅ℯ  ⋅ℯ    "
      ]
     },
     "execution_count": 10,
     "metadata": {},
     "output_type": "execute_result"
    }
   ],
   "source": [
    "#se resuelve la ecuación diferencial con condiciones iniciales\n",
    "#solucion particular explicita\n",
    "#se puede cambiar el valor inicial\n",
    "sp.dsolve(Eq, ics={y(1):2})"
   ]
  },
  {
   "cell_type": "markdown",
   "metadata": {},
   "source": [
    "Para comprobar nuestros resultados, debemos despejar variables (pues la ecuación es de variables separables):\n",
    "$$\\dfrac{dy}{y}= 3x^2dx$$\n",
    "\n",
    "Adenás debemos recordar que si $F'(x)=f(x)$, entonces:\n",
    "\n",
    "$$\\int f(x)dx=F(x)+C.$$\n",
    "\n",
    "Por tanto si consideramos:\n",
    "\n",
    "$$f(y)=\\dfrac{1}{y}\\quad\\quad\\quad\\quad g(x)=3x^2,$$\n",
    "    \n",
    "tendremos que:\n",
    "\n",
    "$$\\int f(y)dy=\\int g(x)dx$$\n",
    "\n",
    "Para calcular en `Python` definimos las funciones y las integramos:"
   ]
  },
  {
   "cell_type": "code",
   "execution_count": 11,
   "metadata": {},
   "outputs": [
    {
     "data": {
      "text/latex": [
       "$\\displaystyle \\log{\\left(x \\right)}$"
      ],
      "text/plain": [
       "log(x)"
      ]
     },
     "execution_count": 11,
     "metadata": {},
     "output_type": "execute_result"
    }
   ],
   "source": [
    "f = 1/x #usamos la variavle x, porque ya hemos definido y como función.\n",
    "sp.integrate(f,x)"
   ]
  },
  {
   "cell_type": "code",
   "execution_count": 12,
   "metadata": {},
   "outputs": [
    {
     "data": {
      "text/latex": [
       "$\\displaystyle x^{3}$"
      ],
      "text/plain": [
       " 3\n",
       "x "
      ]
     },
     "execution_count": 12,
     "metadata": {},
     "output_type": "execute_result"
    }
   ],
   "source": [
    "g=3*x**2\n",
    "sp.integrate(g,x)"
   ]
  },
  {
   "cell_type": "markdown",
   "metadata": {},
   "source": [
    "Tendremos entonces:\n",
    "\n",
    "$$\\ln(y)=x^3+c,$$\n",
    "\n",
    "despejando $y(x)$, tendremos:"
   ]
  },
  {
   "cell_type": "code",
   "execution_count": 13,
   "metadata": {},
   "outputs": [
    {
     "data": {
      "text/latex": [
       "$\\displaystyle \\left[ e^{- C + x^{3}}\\right]$"
      ],
      "text/plain": [
       "⎡       3⎤\n",
       "⎢ -C + x ⎥\n",
       "⎣ℯ       ⎦"
      ]
     },
     "execution_count": 13,
     "metadata": {},
     "output_type": "execute_result"
    }
   ],
   "source": [
    "e=sp.log(y(x))-x**3+C\n",
    "res=sp.solve(e,y(x))\n",
    "res"
   ]
  },
  {
   "cell_type": "markdown",
   "metadata": {},
   "source": [
    "Expresión que corresponde a la solución general de la EDO!!.\n",
    "\n",
    "### Ejercicio 01:\n",
    "\n",
    "En `Python` podemos declarar $\\sqrt[3]{2}$ de diferentes formas:\n",
    "* `2**(1/3)` mediante potencias.\n",
    "* `np.cbrt(2)` mediante el uso de la libreria `numpy`.\n",
    "* `sp.cbrt(2)` mediante el uso de la libreria `sympy`.\n",
    "\n",
    "Defina $\\sqrt[3]{2}$ usando las formas que se presentan y describa porqué son diferentes. Recuerde registrar su desarrollo de la forma más ordenada y coherente posible.  "
   ]
  },
  {
   "cell_type": "code",
   "execution_count": 14,
   "metadata": {},
   "outputs": [
    {
     "data": {
      "text/latex": [
       "$\\displaystyle 1.25992104989487$"
      ],
      "text/plain": [
       "1.2599210498948732"
      ]
     },
     "execution_count": 14,
     "metadata": {},
     "output_type": "execute_result"
    }
   ],
   "source": [
    "raiz1 = 2 ** (1/3)\n",
    "raiz1"
   ]
  },
  {
   "cell_type": "code",
   "execution_count": 15,
   "metadata": {},
   "outputs": [
    {
     "data": {
      "text/latex": [
       "$\\displaystyle 1.25992104989487$"
      ],
      "text/plain": [
       "np.float64(1.259921049894873)"
      ]
     },
     "execution_count": 15,
     "metadata": {},
     "output_type": "execute_result"
    }
   ],
   "source": [
    "raiz2 = np.cbrt(2)\n",
    "raiz2"
   ]
  },
  {
   "cell_type": "code",
   "execution_count": 16,
   "metadata": {},
   "outputs": [
    {
     "data": {
      "text/latex": [
       "$\\displaystyle \\sqrt[3]{2}$"
      ],
      "text/plain": [
       "3 ___\n",
       "╲╱ 2 "
      ]
     },
     "execution_count": 16,
     "metadata": {},
     "output_type": "execute_result"
    }
   ],
   "source": [
    "raiz3 = sp.cbrt(2)\n",
    "raiz3"
   ]
  },
  {
   "cell_type": "markdown",
   "metadata": {},
   "source": [
    "### Ejercicio 02\n",
    "\n",
    "Para trabajar este ejercicio debe notar que al definir las variables, en `Python` obtendrá resultados diferentes si la define como `y=sp.Symbol(\"y\", real= True)` o como `y=sp.Symbol(\"y\")`.\n",
    "\n",
    "Ahora considere la EDO autónoma:\n",
    "\n",
    "$$(y^5 - 6 y^4 - 5 y^3 - 10 y^2 - 36 y + 56)dx+(y^2+1)dy = 0$$\n",
    "\n",
    "* a) Encuentre sus puntos estacionarios usando `y=sp.Symbol(\"y\", real= True)`.\n",
    "* b) Encuentre sus puntos estacionarios usando `y=sp.Symbol(\"y\")`.\n",
    "* c) Explique porqué se obtienen resultados diferentes. \n",
    "\n",
    "Recuerde registrar su desarrollo de la forma más ordenada y coherente posible.  "
   ]
  },
  {
   "cell_type": "code",
   "execution_count": 17,
   "metadata": {},
   "outputs": [
    {
     "data": {
      "text/latex": [
       "$\\displaystyle \\left[ -2, \\  1, \\  7\\right]$"
      ],
      "text/plain": [
       "[-2, 1, 7]"
      ]
     },
     "execution_count": 17,
     "metadata": {},
     "output_type": "execute_result"
    }
   ],
   "source": [
    "y = sp.Symbol(\"y\", real= True)\n",
    "sp.solve(-y**5+6*y**4+5*y**3+10*y**2+36*y-56)"
   ]
  },
  {
   "cell_type": "code",
   "execution_count": 18,
   "metadata": {},
   "outputs": [
    {
     "data": {
      "text/latex": [
       "$\\displaystyle \\left[ -2, \\  1, \\  7, \\  - 2 i, \\  2 i\\right]$"
      ],
      "text/plain": [
       "[-2, 1, 7, -2⋅ⅈ, 2⋅ⅈ]"
      ]
     },
     "execution_count": 18,
     "metadata": {},
     "output_type": "execute_result"
    }
   ],
   "source": [
    "y=sp.Symbol(\"y\")\n",
    "sp.solve(-y**5+6*y**4+5*y**3+10*y**2+36*y-56)"
   ]
  },
  {
   "cell_type": "markdown",
   "metadata": {},
   "source": [
    "### Ejercicio 03\n",
    "\n",
    "Para trabajar este ejercicio debe notar que al buscar soluciones periódicas de ecuaciones diferenciales que involucran funciones trigonométricas la función `sp.solve(#ecuación#,#variable)` entregará un resultado limitado al argumento principal, mientras que la función `sp.solveset(#ecuación#,#variable)` nos entrega un panorama más amplio. Debemos notar sin embargo que `sp.solveset()` no pone atención en las restricciones de la función.\n",
    "\n",
    "Ahora considere la EDO\n",
    "\n",
    "$$\\sin y \\sqrt{y-1} dx - (x^2-1)dy = 0 $$\n",
    "\n",
    "* a) Encuentre las soluciones estacionarias de la EDO usando `sp.solve()`.\n",
    "* b) Encuentre las soluciones estacionarias de la EDO usando `sp.solveset()`.\n",
    "* c) Explique porqué se obtienen resultados diferentes y qué ventajas tiene cada método.\n",
    "\n",
    "Recuerde registrar su desarrollo de la forma más ordenada y coherente posible.  "
   ]
  },
  {
   "cell_type": "code",
   "execution_count": null,
   "metadata": {},
   "outputs": [
    {
     "data": {
      "text/latex": [
       "$\\displaystyle 0 = \\frac{\\sqrt{y - 1} \\sin{\\left(y \\right)}}{x^{2} - 1}$"
      ],
      "text/plain": [
       "      _______       \n",
       "    ╲╱ y - 1 ⋅sin(y)\n",
       "0 = ────────────────\n",
       "          2         \n",
       "         x  - 1     "
      ]
     },
     "execution_count": 19,
     "metadata": {},
     "output_type": "execute_result"
    }
   ],
   "source": [
    "sp.init_printing(use_latex='mathjax')\n",
    "#sp.Sin\n",
    "#sp.cos\n",
    "#sp.sqrt\n",
    "y = sp.Symbol(\"y\")\n",
    "x = sp.Symbol(\"x\")\n",
    "\n",
    "f = sp.sin(y)*sp.sqrt(y-1)/(x**2-1)\n",
    "\n",
    "sp.Eq(0, f)\n",
    "sp.solve(f,y)"
   ]
  },
  {
   "cell_type": "code",
   "execution_count": 20,
   "metadata": {},
   "outputs": [
    {
     "data": {
      "text/latex": [
       "$\\displaystyle \\left\\{1\\right\\} \\cup \\left\\{2 n \\pi\\; \\middle|\\; n \\in \\mathbb{Z}\\right\\} \\cup \\left\\{2 n \\pi + \\pi\\; \\middle|\\; n \\in \\mathbb{Z}\\right\\}$"
      ],
      "text/plain": [
       "{1} ∪ {2⋅n⋅π │ n ∊ ℤ} ∪ {2⋅n⋅π + π │ n ∊ ℤ}"
      ]
     },
     "execution_count": 20,
     "metadata": {},
     "output_type": "execute_result"
    }
   ],
   "source": [
    "sp.solveset(f, y, domain=sp.S.Reals) #resolvemos la ecuación en el dominio de los números reales"
   ]
  },
  {
   "cell_type": "code",
   "execution_count": 21,
   "metadata": {},
   "outputs": [
    {
     "name": "stderr",
     "output_type": "stream",
     "text": [
      "C:\\Users\\Nelson\\AppData\\Local\\Temp\\ipykernel_17616\\1703602461.py:6: RuntimeWarning: divide by zero encountered in divide\n",
      "  V = np.sin(Y)*np.sqrt(Y-1)/(X**2-1) #f(x,y)\n",
      "C:\\Users\\Nelson\\AppData\\Local\\Temp\\ipykernel_17616\\1703602461.py:6: RuntimeWarning: invalid value encountered in divide\n",
      "  V = np.sin(Y)*np.sqrt(Y-1)/(X**2-1) #f(x,y)\n",
      "C:\\Users\\Nelson\\AppData\\Local\\Temp\\ipykernel_17616\\1703602461.py:10: RuntimeWarning: invalid value encountered in divide\n",
      "  V = V / N\n"
     ]
    },
    {
     "data": {
      "image/png": "[encoded data removed]",
      "text/plain": [
       "<Figure size 640x480 with 1 Axes>"
      ]
     },
     "metadata": {},
     "output_type": "display_data"
    }
   ],
   "source": [
    "import numpy as np\n",
    "import matplotlib.pyplot as plt\n",
    "X,Y=np.meshgrid(np.linspace(-5,5,21), np.linspace(1,5,21))\n",
    "\n",
    "U = 1.0\n",
    "V = np.sin(Y)*np.sqrt(Y-1)/(X**2-1) #f(x,y)\n",
    "\n",
    "N = np.sqrt(U ** 2 + V ** 2)#Normalizamos los vectores\n",
    "U = U / N\n",
    "V = V / N\n",
    "\n",
    "plt.quiver(X, Y, U, V) #graficamos los vectores con origen en (x,y) y término (u,v)\n",
    "plt.show()"
   ]
  },
  {
   "cell_type": "markdown",
   "metadata": {},
   "source": [
    "### Ejercicio 04\n",
    "\n",
    "Resolver el PVI\n",
    "$$\\dfrac{dy}{dx} - y = 2e^x y^2 \\quad ; \\quad y(1)=\\pi.$$\n",
    "\n",
    "Recuerde registrar su desarrollo de la forma más ordenada y coherente posible.  "
   ]
  },
  {
   "cell_type": "code",
   "execution_count": 22,
   "metadata": {},
   "outputs": [
    {
     "data": {
      "text/latex": [
       "$\\displaystyle - 2 y^{2}{\\left(x \\right)} e^{x} - y{\\left(x \\right)} + \\frac{d}{d x} y{\\left(x \\right)}$"
      ],
      "text/plain": [
       "     2     x          d       \n",
       "- 2⋅y (x)⋅ℯ  - y(x) + ──(y(x))\n",
       "                      dx      "
      ]
     },
     "execution_count": 22,
     "metadata": {},
     "output_type": "execute_result"
    }
   ],
   "source": [
    "x = sp.Symbol('x', real=True)\n",
    "y = sp.Function('y')\n",
    "\n",
    "Eq = sp.diff(y(x),x)-y(x)-2*sp.exp(x)*y(x)**2\n",
    "Eq\n"
   ]
  },
  {
   "cell_type": "code",
   "execution_count": 23,
   "metadata": {},
   "outputs": [
    {
     "data": {
      "text/latex": [
       "$\\displaystyle y{\\left(x \\right)} = \\frac{e^{x}}{- e^{2 x} + \\frac{e + \\pi e^{2}}{\\pi}}$"
      ],
      "text/plain": [
       "               x        \n",
       "              ℯ         \n",
       "y(x) = ─────────────────\n",
       "                       2\n",
       "          2⋅x   ℯ + π⋅ℯ \n",
       "       - ℯ    + ────────\n",
       "                   π    "
      ]
     },
     "execution_count": 23,
     "metadata": {},
     "output_type": "execute_result"
    }
   ],
   "source": [
    "sp.dsolve(Eq, ics={y(1):sp.pi})"
   ]
  },
  {
   "cell_type": "markdown",
   "metadata": {},
   "source": [
    "### Ejercicio 05\n",
    "\n",
    "Considere la siguiente EDO:\n",
    "\n",
    "$$\\left[ \\dfrac{\\ln(\\ln(y))}{x}+\\dfrac{2}{3}xy^3+6x \\right] dx+ \\left[\\dfrac{\\ln(x)}{y\\ln(y)}+x^2y^2+4e^{-2y} \\right]dy=0.$$\n",
    "\n",
    "* a) Verifique si es exacta.\n",
    "* b) Resuelva la ecuación.\n",
    "\n",
    "Recuerde registrar su desarrollo de la forma más ordenada y coherente posible.  "
   ]
  },
  {
   "cell_type": "code",
   "execution_count": 24,
   "metadata": {},
   "outputs": [],
   "source": [
    "import matplotlib.pyplot as plt\n",
    "import numpy as np\n",
    "import sympy as sp\n",
    "from sympy import *\n",
    "from scipy import integrate\n",
    "sp.init_printing(use_latex='mathjax') # Importamos el módulo de latex para imprimir con notación matemática.\n",
    "\n"
   ]
  },
  {
   "cell_type": "code",
   "execution_count": 25,
   "metadata": {},
   "outputs": [
    {
     "data": {
      "text/latex": [
       "$\\displaystyle 2.0 x y^{2} + \\frac{1}{x y \\log{\\left(y \\right)}}$"
      ],
      "text/plain": [
       "       2       1     \n",
       "2.0⋅x⋅y  + ──────────\n",
       "           x⋅y⋅log(y)"
      ]
     },
     "execution_count": 25,
     "metadata": {},
     "output_type": "execute_result"
    }
   ],
   "source": [
    "x = sp.Symbol('x', real=True )\n",
    "y = sp.Symbol('y')\n",
    "\n",
    "f = (sp.log(sp.log(y))/x) + ((2/3)*x*y**3) + (6*x)\n",
    "sp.diff(f,y) #la ecuación diferencial"
   ]
  },
  {
   "cell_type": "code",
   "execution_count": 26,
   "metadata": {},
   "outputs": [
    {
     "data": {
      "text/latex": [
       "$\\displaystyle 2 x y^{2} + \\frac{1}{x y \\log{\\left(y \\right)}}$"
      ],
      "text/plain": [
       "     2       1     \n",
       "2⋅x⋅y  + ──────────\n",
       "         x⋅y⋅log(y)"
      ]
     },
     "execution_count": 26,
     "metadata": {},
     "output_type": "execute_result"
    }
   ],
   "source": [
    "x = sp.Symbol('x', real=True )\n",
    "y = sp.Symbol('y')\n",
    "\n",
    "f = (sp.log(x)/(y*sp.log(y))) + (x**2*y**2) + (4*sp.exp(-2*y))\n",
    "sp.diff(f,x) #la ecuación diferencial"
   ]
  },
  {
   "cell_type": "markdown",
   "metadata": {},
   "source": [
    "B:\n"
   ]
  },
  {
   "cell_type": "markdown",
   "metadata": {},
   "source": [
    "$$\\left[ \\dfrac{\\ln(\\ln(y))}{x}+\\dfrac{2}{3}xy^3+6x \\right] dx+ \\left[\\dfrac{\\ln(x)}{y\\ln(y)}+x^2y^2+4e^{-2y} \\right]dy=0.$$\n"
   ]
  },
  {
   "cell_type": "code",
   "execution_count": 27,
   "metadata": {},
   "outputs": [
    {
     "data": {
      "text/latex": [
       "$\\displaystyle \\frac{0.666666666666667 x y^{3}{\\left(x \\right)} + 6 x + \\frac{\\log{\\left(\\log{\\left(y{\\left(x \\right)} \\right)} \\right)}}{x}}{x^{2} y^{2}{\\left(x \\right)} + 4 e^{- 2 y{\\left(x \\right)}} + \\frac{\\log{\\left(x \\right)}}{y{\\left(x \\right)} \\log{\\left(y{\\left(x \\right)} \\right)}}} + \\frac{d}{d x} y{\\left(x \\right)}$"
      ],
      "text/plain": [
       "                     3            log(log(y(x)))           \n",
       "0.666666666666667⋅x⋅y (x) + 6⋅x + ──────────────           \n",
       "                                        x          d       \n",
       "──────────────────────────────────────────────── + ──(y(x))\n",
       "      2  2         -2⋅y(x)       log(x)            dx      \n",
       "     x ⋅y (x) + 4⋅ℯ        + ──────────────                \n",
       "                             y(x)⋅log(y(x))                "
      ]
     },
     "execution_count": 27,
     "metadata": {},
     "output_type": "execute_result"
    }
   ],
   "source": [
    "x = sp.Symbol('x', real=True )\n",
    "y = sp.Function('y')\n",
    "\n",
    "Eq = y(x).diff(x) + (((sp.log(sp.log(y(x)))/x) + ((2/3)*x*y(x)**3) + (6*x)) / ((sp.log(x)/(y(x)*sp.log(y(x)))) + (x**2*y(x)**2) + (4*sp.exp(-2*y(x)))))\n",
    "Eq"
   ]
  },
  {
   "cell_type": "code",
   "execution_count": null,
   "metadata": {},
   "outputs": [],
   "source": [
    "sp.dsolve(Eq)"
   ]
  }
 ],
 "metadata": {
  "kernelspec": {
   "display_name": "base",
   "language": "python",
   "name": "python3"
  },
  "language_info": {
   "codemirror_mode": {
    "name": "ipython",
    "version": 3
   },
   "file_extension": ".py",
   "mimetype": "text/x-python",
   "name": "python",
   "nbconvert_exporter": "python",
   "pygments_lexer": "ipython3",
   "version": "3.12.9"
  }
 },
 "nbformat": 4,
 "nbformat_minor": 4
}
