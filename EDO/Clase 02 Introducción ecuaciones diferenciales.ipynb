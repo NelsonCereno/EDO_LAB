{
 "cells": [
  {
   "cell_type": "markdown",
   "metadata": {},
   "source": [
    "# Ecuaciones diferenciales con `Python`\n",
    "Mientras que algunos problemas de Ecuaciones diferenciales ordinarias se pueden resolver con métodos analíticos, como deben haber visto en cátedra, son mucho más comunes los problemas que no se pueden resolver analíticamente. Por lo tanto, en estos casos debemos recurrir a los métodos numéricos. Es aquí, dónde el poder de las computadoras y en especial, de los paquetes científicos de `Python` como `NumPy`, `Matplotlib`, `SymPy` y `SciPy`, se vuelven sumamente útiles. Veamos como podemos utilizar la fuerza computacional para resolver Ecuaciones diferenciales.\n",
    "\n",
    "## Soluciones analíticas con `Python`\n",
    "`SymPy` nos proporciona un solucionador genérico de Ecuaciones diferenciales ordinarias, `sympy.dsolve`, el cual es capaz de encontrar soluciones analíticas a muchas EDOs elementales. Mientras `sympy.dsolve` se puede utilizar para resolver muchas EDOs sencillas simbólicamente, como veremos a continuación, debemos tener en cuenta que la mayoría de las EDOs no se pueden resolver analíticamente. Por ejemplo, retomando el ejemplo que resolvimos analíticamente más arriba, veamos si llegamos al mismo resultado utilizando `SymPy` para solucionar la siguiente Ecuación diferencial ordinaria:\n",
    "\n",
    "$$\\dfrac{dy}{dx}=-3x^2y+6x^2$$\n",
    "\n",
    "Para ello, primero definimos:\n",
    "* la variable $x$ utilizando el objeto `Symbol`.\n",
    "* la variable $y$, que al ser una función, obviamente debe definirse como objeto `Function`.\n",
    "\n",
    "Luego expresamos en `Python` la ecuación que define a la función:"
   ]
  },
  {
   "cell_type": "code",
   "execution_count": 7,
   "metadata": {},
   "outputs": [
    {
     "data": {
      "text/latex": [
       "$\\displaystyle \\frac{d}{d x} y{\\left(x \\right)} = - 3 x^{2} y{\\left(x \\right)} + 6 x^{2}$"
      ],
      "text/plain": [
       "d               2           2\n",
       "──(y(x)) = - 3⋅x ⋅y(x) + 6⋅x \n",
       "dx                           "
      ]
     },
     "execution_count": 7,
     "metadata": {},
     "output_type": "execute_result"
    }
   ],
   "source": [
    "import matplotlib.pyplot as plt\n",
    "import numpy as np\n",
    "import sympy as sp\n",
    "from sympy import *\n",
    "from scipy import integrate\n",
    "sp.init_printing(use_latex='mathjax') # Importamos el módulo de latex para imprimir con notación matemática.\n",
    "\n",
    "# Resolviendo ecuación diferencial\n",
    "# defino las incognitas\n",
    "x = sp.Symbol('x', real=True )\n",
    "y = sp.Function('y')\n",
    "\n",
    "# expreso la ecuacion\n",
    "f = 6*x**2 - 3*x**2*(y(x))\n",
    "\n",
    "#Python no tiene ni dy ni dx\n",
    "\n",
    "# para definir la ecuacion diferencial, se usa .diff(x) para indicar la derivada respecto a x y en vez de signo \"=\"\n",
    "# se usa una \",\"\n",
    "sp.Eq(y(x).diff(x), f)"
   ]
  },
  {
   "cell_type": "markdown",
   "metadata": {},
   "source": [
    " Ahora sólo falta aplicar la función `dsolve` para resolver nuestra EDO:"
   ]
  },
  {
   "cell_type": "code",
   "execution_count": 8,
   "metadata": {},
   "outputs": [
    {
     "data": {
      "text/latex": [
       "$\\displaystyle y{\\left(x \\right)} = C_{1} e^{- x^{3}} + 2$"
      ],
      "text/plain": [
       "             3    \n",
       "           -x     \n",
       "y(x) = C₁⋅ℯ    + 2"
      ]
     },
     "execution_count": 8,
     "metadata": {},
     "output_type": "execute_result"
    }
   ],
   "source": [
    "# Resolviendo la ecuación\n",
    "#                dy/dx - f = 0\n",
    "sp.dsolve(y(x).diff(x) - f)"
   ]
  },
  {
   "cell_type": "markdown",
   "metadata": {},
   "source": [
    "Siguiendo el mismo procedimiento, podemos resolver otras EDOs. Consideremos el ejemplo visto en clases:\n",
    "\n",
    "### Ejemplo 01\n",
    "\n",
    "Determine la solución de la EDO:\n",
    "$$(3x^2+6xy^2)dx+(6x^2y+4y^3)dy=0.$$\n",
    "\n",
    "Para resolver la EDO usando `Python` realizamos el siguiente procedimiento:"
   ]
  },
  {
   "cell_type": "code",
   "execution_count": 9,
   "metadata": {},
   "outputs": [
    {
     "data": {
      "text/latex": [
       "$\\displaystyle 3 x^{2} + 6 x y^{2}{\\left(x \\right)} + \\left(6 x^{2} y{\\left(x \\right)} + 4 y^{3}{\\left(x \\right)}\\right) \\frac{d}{d x} y{\\left(x \\right)}$"
      ],
      "text/plain": [
       "   2        2      ⎛   2           3   ⎞ d       \n",
       "3⋅x  + 6⋅x⋅y (x) + ⎝6⋅x ⋅y(x) + 4⋅y (x)⎠⋅──(y(x))\n",
       "                                         dx      "
      ]
     },
     "execution_count": 9,
     "metadata": {},
     "output_type": "execute_result"
    }
   ],
   "source": [
    "g=3*x**2+6*x*y(x)**2+(6*x**2*y(x)+4*y(x)**3)*y(x).diff(x) #declaramos la función\n",
    "g #la imprimimos para revisar que no hemos cometido errores de tipeo"
   ]
  },
  {
   "cell_type": "code",
   "execution_count": 20,
   "metadata": {},
   "outputs": [
    {
     "ename": "KeyboardInterrupt",
     "evalue": "",
     "output_type": "error",
     "traceback": [
      "\u001b[1;31m---------------------------------------------------------------------------\u001b[0m",
      "\u001b[1;31mKeyboardInterrupt\u001b[0m                         Traceback (most recent call last)",
      "Cell \u001b[1;32mIn[20], line 2\u001b[0m\n\u001b[0;32m      1\u001b[0m \u001b[38;5;66;03m#resuelve una ecuacion diferencial\u001b[39;00m\n\u001b[1;32m----> 2\u001b[0m sp\u001b[38;5;241m.\u001b[39mdsolve(g,\u001b[38;5;241m0\u001b[39m)\n",
      "File \u001b[1;32mc:\\Users\\Nelson\\miniconda3\\Lib\\site-packages\\sympy\\solvers\\ode\\ode.py:640\u001b[0m, in \u001b[0;36mdsolve\u001b[1;34m(eq, func, hint, simplify, ics, xi, eta, x0, n, **kwargs)\u001b[0m\n\u001b[0;32m    637\u001b[0m \u001b[38;5;28;01melse\u001b[39;00m:\n\u001b[0;32m    638\u001b[0m     \u001b[38;5;66;03m# The key 'hint' stores the hint needed to be solved for.\u001b[39;00m\n\u001b[0;32m    639\u001b[0m     hint \u001b[38;5;241m=\u001b[39m hints[\u001b[38;5;124m'\u001b[39m\u001b[38;5;124mhint\u001b[39m\u001b[38;5;124m'\u001b[39m]\n\u001b[1;32m--> 640\u001b[0m     \u001b[38;5;28;01mreturn\u001b[39;00m _helper_simplify(eq, hint, hints, simplify, ics\u001b[38;5;241m=\u001b[39mics)\n",
      "File \u001b[1;32mc:\\Users\\Nelson\\miniconda3\\Lib\\site-packages\\sympy\\solvers\\ode\\ode.py:670\u001b[0m, in \u001b[0;36m_helper_simplify\u001b[1;34m(eq, hint, match, simplify, ics, **kwargs)\u001b[0m\n\u001b[0;32m    665\u001b[0m \u001b[38;5;28;01mif\u001b[39;00m simplify:\n\u001b[0;32m    666\u001b[0m     \u001b[38;5;66;03m# odesimp() will attempt to integrate, if necessary, apply constantsimp(),\u001b[39;00m\n\u001b[0;32m    667\u001b[0m     \u001b[38;5;66;03m# attempt to solve for func, and apply any other hint specific\u001b[39;00m\n\u001b[0;32m    668\u001b[0m     \u001b[38;5;66;03m# simplifications\u001b[39;00m\n\u001b[0;32m    669\u001b[0m     \u001b[38;5;28;01mif\u001b[39;00m \u001b[38;5;28misinstance\u001b[39m(solvefunc, SingleODESolver):\n\u001b[1;32m--> 670\u001b[0m         sols \u001b[38;5;241m=\u001b[39m solvefunc\u001b[38;5;241m.\u001b[39mget_general_solution()\n\u001b[0;32m    671\u001b[0m     \u001b[38;5;28;01melse\u001b[39;00m:\n\u001b[0;32m    672\u001b[0m         sols \u001b[38;5;241m=\u001b[39m solvefunc(eq, func, order, match)\n",
      "File \u001b[1;32mc:\\Users\\Nelson\\miniconda3\\Lib\\site-packages\\sympy\\solvers\\ode\\single.py:283\u001b[0m, in \u001b[0;36mSingleODESolver.get_general_solution\u001b[1;34m(self, simplify)\u001b[0m\n\u001b[0;32m    281\u001b[0m     msg \u001b[38;5;241m=\u001b[39m \u001b[38;5;124m\"\u001b[39m\u001b[38;5;132;01m%s\u001b[39;00m\u001b[38;5;124m solver cannot solve:\u001b[39m\u001b[38;5;130;01m\\n\u001b[39;00m\u001b[38;5;132;01m%s\u001b[39;00m\u001b[38;5;124m\"\u001b[39m\n\u001b[0;32m    282\u001b[0m     \u001b[38;5;28;01mraise\u001b[39;00m ODEMatchError(msg \u001b[38;5;241m%\u001b[39m (\u001b[38;5;28mself\u001b[39m\u001b[38;5;241m.\u001b[39mhint, \u001b[38;5;28mself\u001b[39m\u001b[38;5;241m.\u001b[39mode_problem\u001b[38;5;241m.\u001b[39meq))\n\u001b[1;32m--> 283\u001b[0m \u001b[38;5;28;01mreturn\u001b[39;00m \u001b[38;5;28mself\u001b[39m\u001b[38;5;241m.\u001b[39m_get_general_solution(simplify_flag\u001b[38;5;241m=\u001b[39msimplify)\n",
      "File \u001b[1;32mc:\\Users\\Nelson\\miniconda3\\Lib\\site-packages\\sympy\\solvers\\ode\\single.py:897\u001b[0m, in \u001b[0;36mFactorable._get_general_solution\u001b[1;34m(self, simplify_flag)\u001b[0m\n\u001b[0;32m    895\u001b[0m \u001b[38;5;28;01mfor\u001b[39;00m eq \u001b[38;5;129;01min\u001b[39;00m eqns:\n\u001b[0;32m    896\u001b[0m     \u001b[38;5;28;01mtry\u001b[39;00m:\n\u001b[1;32m--> 897\u001b[0m         sol \u001b[38;5;241m=\u001b[39m dsolve(eq, func(x))\n\u001b[0;32m    898\u001b[0m     \u001b[38;5;28;01mexcept\u001b[39;00m \u001b[38;5;167;01mNotImplementedError\u001b[39;00m:\n\u001b[0;32m    899\u001b[0m         \u001b[38;5;28;01mcontinue\u001b[39;00m\n",
      "File \u001b[1;32mc:\\Users\\Nelson\\miniconda3\\Lib\\site-packages\\sympy\\solvers\\ode\\ode.py:640\u001b[0m, in \u001b[0;36mdsolve\u001b[1;34m(eq, func, hint, simplify, ics, xi, eta, x0, n, **kwargs)\u001b[0m\n\u001b[0;32m    637\u001b[0m \u001b[38;5;28;01melse\u001b[39;00m:\n\u001b[0;32m    638\u001b[0m     \u001b[38;5;66;03m# The key 'hint' stores the hint needed to be solved for.\u001b[39;00m\n\u001b[0;32m    639\u001b[0m     hint \u001b[38;5;241m=\u001b[39m hints[\u001b[38;5;124m'\u001b[39m\u001b[38;5;124mhint\u001b[39m\u001b[38;5;124m'\u001b[39m]\n\u001b[1;32m--> 640\u001b[0m     \u001b[38;5;28;01mreturn\u001b[39;00m _helper_simplify(eq, hint, hints, simplify, ics\u001b[38;5;241m=\u001b[39mics)\n",
      "File \u001b[1;32mc:\\Users\\Nelson\\miniconda3\\Lib\\site-packages\\sympy\\solvers\\ode\\ode.py:670\u001b[0m, in \u001b[0;36m_helper_simplify\u001b[1;34m(eq, hint, match, simplify, ics, **kwargs)\u001b[0m\n\u001b[0;32m    665\u001b[0m \u001b[38;5;28;01mif\u001b[39;00m simplify:\n\u001b[0;32m    666\u001b[0m     \u001b[38;5;66;03m# odesimp() will attempt to integrate, if necessary, apply constantsimp(),\u001b[39;00m\n\u001b[0;32m    667\u001b[0m     \u001b[38;5;66;03m# attempt to solve for func, and apply any other hint specific\u001b[39;00m\n\u001b[0;32m    668\u001b[0m     \u001b[38;5;66;03m# simplifications\u001b[39;00m\n\u001b[0;32m    669\u001b[0m     \u001b[38;5;28;01mif\u001b[39;00m \u001b[38;5;28misinstance\u001b[39m(solvefunc, SingleODESolver):\n\u001b[1;32m--> 670\u001b[0m         sols \u001b[38;5;241m=\u001b[39m solvefunc\u001b[38;5;241m.\u001b[39mget_general_solution()\n\u001b[0;32m    671\u001b[0m     \u001b[38;5;28;01melse\u001b[39;00m:\n\u001b[0;32m    672\u001b[0m         sols \u001b[38;5;241m=\u001b[39m solvefunc(eq, func, order, match)\n",
      "File \u001b[1;32mc:\\Users\\Nelson\\miniconda3\\Lib\\site-packages\\sympy\\solvers\\ode\\single.py:283\u001b[0m, in \u001b[0;36mSingleODESolver.get_general_solution\u001b[1;34m(self, simplify)\u001b[0m\n\u001b[0;32m    281\u001b[0m     msg \u001b[38;5;241m=\u001b[39m \u001b[38;5;124m\"\u001b[39m\u001b[38;5;132;01m%s\u001b[39;00m\u001b[38;5;124m solver cannot solve:\u001b[39m\u001b[38;5;130;01m\\n\u001b[39;00m\u001b[38;5;132;01m%s\u001b[39;00m\u001b[38;5;124m\"\u001b[39m\n\u001b[0;32m    282\u001b[0m     \u001b[38;5;28;01mraise\u001b[39;00m ODEMatchError(msg \u001b[38;5;241m%\u001b[39m (\u001b[38;5;28mself\u001b[39m\u001b[38;5;241m.\u001b[39mhint, \u001b[38;5;28mself\u001b[39m\u001b[38;5;241m.\u001b[39mode_problem\u001b[38;5;241m.\u001b[39meq))\n\u001b[1;32m--> 283\u001b[0m \u001b[38;5;28;01mreturn\u001b[39;00m \u001b[38;5;28mself\u001b[39m\u001b[38;5;241m.\u001b[39m_get_general_solution(simplify_flag\u001b[38;5;241m=\u001b[39msimplify)\n",
      "File \u001b[1;32mc:\\Users\\Nelson\\miniconda3\\Lib\\site-packages\\sympy\\solvers\\ode\\single.py:2938\u001b[0m, in \u001b[0;36mLieGroup._get_general_solution\u001b[1;34m(self, simplify_flag)\u001b[0m\n\u001b[0;32m   2936\u001b[0m desols \u001b[38;5;241m=\u001b[39m []\n\u001b[0;32m   2937\u001b[0m \u001b[38;5;28;01mfor\u001b[39;00m s \u001b[38;5;129;01min\u001b[39;00m eqsol:\n\u001b[1;32m-> 2938\u001b[0m     sol \u001b[38;5;241m=\u001b[39m _ode_lie_group(s, func, order, match\u001b[38;5;241m=\u001b[39m\u001b[38;5;28mself\u001b[39m\u001b[38;5;241m.\u001b[39mr3)\n\u001b[0;32m   2939\u001b[0m     \u001b[38;5;28;01mif\u001b[39;00m sol:\n\u001b[0;32m   2940\u001b[0m         desols\u001b[38;5;241m.\u001b[39mextend(sol)\n",
      "File \u001b[1;32mc:\\Users\\Nelson\\miniconda3\\Lib\\site-packages\\sympy\\solvers\\ode\\lie_group.py:157\u001b[0m, in \u001b[0;36m_ode_lie_group\u001b[1;34m(s, func, order, match)\u001b[0m\n\u001b[0;32m    155\u001b[0m sol \u001b[38;5;241m=\u001b[39m \u001b[38;5;28;01mNone\u001b[39;00m\n\u001b[0;32m    156\u001b[0m \u001b[38;5;28;01mfor\u001b[39;00m heuristic \u001b[38;5;129;01min\u001b[39;00m heuristics:\n\u001b[1;32m--> 157\u001b[0m     sol \u001b[38;5;241m=\u001b[39m _ode_lie_group_try_heuristic(Eq(df, s), heuristic, func, match, inf)\n\u001b[0;32m    158\u001b[0m     \u001b[38;5;28;01mif\u001b[39;00m sol:\n\u001b[0;32m    159\u001b[0m         \u001b[38;5;28;01mreturn\u001b[39;00m sol\n",
      "File \u001b[1;32mc:\\Users\\Nelson\\miniconda3\\Lib\\site-packages\\sympy\\solvers\\ode\\lie_group.py:65\u001b[0m, in \u001b[0;36m_ode_lie_group_try_heuristic\u001b[1;34m(eq, heuristic, func, match, inf)\u001b[0m\n\u001b[0;32m     63\u001b[0m \u001b[38;5;28;01mif\u001b[39;00m \u001b[38;5;129;01mnot\u001b[39;00m inf:\n\u001b[0;32m     64\u001b[0m     \u001b[38;5;28;01mtry\u001b[39;00m:\n\u001b[1;32m---> 65\u001b[0m         inf \u001b[38;5;241m=\u001b[39m infinitesimals(eq, hint\u001b[38;5;241m=\u001b[39mheuristic, func\u001b[38;5;241m=\u001b[39mfunc, order\u001b[38;5;241m=\u001b[39m\u001b[38;5;241m1\u001b[39m, match\u001b[38;5;241m=\u001b[39mmatch)\n\u001b[0;32m     66\u001b[0m     \u001b[38;5;28;01mexcept\u001b[39;00m \u001b[38;5;167;01mValueError\u001b[39;00m:\n\u001b[0;32m     67\u001b[0m         \u001b[38;5;28;01mreturn\u001b[39;00m \u001b[38;5;28;01mNone\u001b[39;00m\n",
      "File \u001b[1;32mc:\\Users\\Nelson\\miniconda3\\Lib\\site-packages\\sympy\\solvers\\ode\\lie_group.py:295\u001b[0m, in \u001b[0;36minfinitesimals\u001b[1;34m(eq, func, order, hint, match)\u001b[0m\n\u001b[0;32m    293\u001b[0m \u001b[38;5;28;01melse\u001b[39;00m:\n\u001b[0;32m    294\u001b[0m      function \u001b[38;5;241m=\u001b[39m \u001b[38;5;28mglobals\u001b[39m()[\u001b[38;5;124m'\u001b[39m\u001b[38;5;124mlie_heuristic_\u001b[39m\u001b[38;5;124m'\u001b[39m \u001b[38;5;241m+\u001b[39m hint]\n\u001b[1;32m--> 295\u001b[0m      xieta \u001b[38;5;241m=\u001b[39m function(match, comp\u001b[38;5;241m=\u001b[39m\u001b[38;5;28;01mTrue\u001b[39;00m)\n\u001b[0;32m    296\u001b[0m      \u001b[38;5;28;01mif\u001b[39;00m xieta:\n\u001b[0;32m    297\u001b[0m          \u001b[38;5;28;01mreturn\u001b[39;00m xieta\n",
      "File \u001b[1;32mc:\\Users\\Nelson\\miniconda3\\Lib\\site-packages\\sympy\\solvers\\ode\\lie_group.py:954\u001b[0m, in \u001b[0;36mlie_heuristic_abaco2_unique_general\u001b[1;34m(match, comp)\u001b[0m\n\u001b[0;32m    952\u001b[0m E1 \u001b[38;5;241m=\u001b[39m simplify((\u001b[38;5;241m2\u001b[39m\u001b[38;5;241m*\u001b[39mAyy \u001b[38;5;241m+\u001b[39m (\u001b[38;5;241m2\u001b[39m\u001b[38;5;241m*\u001b[39mB \u001b[38;5;241m-\u001b[39m hy\u001b[38;5;241m*\u001b[39m\u001b[38;5;241m*\u001b[39m\u001b[38;5;241m2\u001b[39m)\u001b[38;5;241m*\u001b[39mA)\u001b[38;5;241m*\u001b[39mA \u001b[38;5;241m-\u001b[39m \u001b[38;5;241m3\u001b[39m\u001b[38;5;241m*\u001b[39mAy\u001b[38;5;241m*\u001b[39m\u001b[38;5;241m*\u001b[39m\u001b[38;5;241m2\u001b[39m)\n\u001b[0;32m    953\u001b[0m \u001b[38;5;28;01mif\u001b[39;00m E1:\n\u001b[1;32m--> 954\u001b[0m     E2 \u001b[38;5;241m=\u001b[39m simplify(\n\u001b[0;32m    955\u001b[0m         \u001b[38;5;241m4\u001b[39m\u001b[38;5;241m*\u001b[39mA\u001b[38;5;241m*\u001b[39m\u001b[38;5;241m*\u001b[39m\u001b[38;5;241m3\u001b[39m\u001b[38;5;241m*\u001b[39mD \u001b[38;5;241m-\u001b[39m D\u001b[38;5;241m*\u001b[39m\u001b[38;5;241m*\u001b[39m\u001b[38;5;241m2\u001b[39m \u001b[38;5;241m+\u001b[39m E1\u001b[38;5;241m*\u001b[39m((\u001b[38;5;241m2\u001b[39m\u001b[38;5;241m*\u001b[39mAxx \u001b[38;5;241m-\u001b[39m (hx\u001b[38;5;241m*\u001b[39m\u001b[38;5;241m*\u001b[39m\u001b[38;5;241m2\u001b[39m \u001b[38;5;241m+\u001b[39m \u001b[38;5;241m2\u001b[39m\u001b[38;5;241m*\u001b[39mC)\u001b[38;5;241m*\u001b[39mA)\u001b[38;5;241m*\u001b[39mA \u001b[38;5;241m-\u001b[39m \u001b[38;5;241m3\u001b[39m\u001b[38;5;241m*\u001b[39mAx\u001b[38;5;241m*\u001b[39m\u001b[38;5;241m*\u001b[39m\u001b[38;5;241m2\u001b[39m))\n\u001b[0;32m    956\u001b[0m     \u001b[38;5;28;01mif\u001b[39;00m \u001b[38;5;129;01mnot\u001b[39;00m E2:\n\u001b[0;32m    957\u001b[0m         E3 \u001b[38;5;241m=\u001b[39m simplify(\n\u001b[0;32m    958\u001b[0m            \u001b[38;5;241m-\u001b[39m(A\u001b[38;5;241m*\u001b[39mD)\u001b[38;5;241m*\u001b[39mE1\u001b[38;5;241m.\u001b[39mdiff(y) \u001b[38;5;241m+\u001b[39m ((E1\u001b[38;5;241m.\u001b[39mdiff(x) \u001b[38;5;241m-\u001b[39m hy\u001b[38;5;241m*\u001b[39mD)\u001b[38;5;241m*\u001b[39mA \u001b[38;5;241m+\u001b[39m \u001b[38;5;241m3\u001b[39m\u001b[38;5;241m*\u001b[39mAy\u001b[38;5;241m*\u001b[39mD \u001b[38;5;241m+\u001b[39m\n\u001b[0;32m    959\u001b[0m             (A\u001b[38;5;241m*\u001b[39mhx \u001b[38;5;241m-\u001b[39m \u001b[38;5;241m3\u001b[39m\u001b[38;5;241m*\u001b[39mAx)\u001b[38;5;241m*\u001b[39mE1)\u001b[38;5;241m*\u001b[39mE1)\n",
      "File \u001b[1;32mc:\\Users\\Nelson\\miniconda3\\Lib\\site-packages\\sympy\\simplify\\simplify.py:644\u001b[0m, in \u001b[0;36msimplify\u001b[1;34m(expr, ratio, measure, rational, inverse, doit, **kwargs)\u001b[0m\n\u001b[0;32m    642\u001b[0m expr \u001b[38;5;241m=\u001b[39m _bottom_up(expr, \u001b[38;5;28;01mlambda\u001b[39;00m w: \u001b[38;5;28mgetattr\u001b[39m(w, \u001b[38;5;124m'\u001b[39m\u001b[38;5;124mnormal\u001b[39m\u001b[38;5;124m'\u001b[39m, \u001b[38;5;28;01mlambda\u001b[39;00m: w)())\n\u001b[0;32m    643\u001b[0m expr \u001b[38;5;241m=\u001b[39m Mul(\u001b[38;5;241m*\u001b[39mpowsimp(expr)\u001b[38;5;241m.\u001b[39mas_content_primitive())\n\u001b[1;32m--> 644\u001b[0m _e \u001b[38;5;241m=\u001b[39m cancel(expr)\n\u001b[0;32m    645\u001b[0m expr1 \u001b[38;5;241m=\u001b[39m shorter(_e, _mexpand(_e)\u001b[38;5;241m.\u001b[39mcancel())  \u001b[38;5;66;03m# issue 6829\u001b[39;00m\n\u001b[0;32m    646\u001b[0m expr2 \u001b[38;5;241m=\u001b[39m shorter(together(expr, deep\u001b[38;5;241m=\u001b[39m\u001b[38;5;28;01mTrue\u001b[39;00m), together(expr1, deep\u001b[38;5;241m=\u001b[39m\u001b[38;5;28;01mTrue\u001b[39;00m))\n",
      "File \u001b[1;32mc:\\Users\\Nelson\\miniconda3\\Lib\\site-packages\\sympy\\polys\\polytools.py:7182\u001b[0m, in \u001b[0;36mcancel\u001b[1;34m(f, _signsimp, *gens, **args)\u001b[0m\n\u001b[0;32m   7180\u001b[0m \u001b[38;5;28;01mif\u001b[39;00m f\u001b[38;5;241m.\u001b[39mhas(Piecewise):\n\u001b[0;32m   7181\u001b[0m     \u001b[38;5;28;01mraise\u001b[39;00m PolynomialError()\n\u001b[1;32m-> 7182\u001b[0m R, (F, G) \u001b[38;5;241m=\u001b[39m sring((p, q), \u001b[38;5;241m*\u001b[39mgens, \u001b[38;5;241m*\u001b[39m\u001b[38;5;241m*\u001b[39margs)\n\u001b[0;32m   7183\u001b[0m \u001b[38;5;28;01mif\u001b[39;00m \u001b[38;5;129;01mnot\u001b[39;00m R\u001b[38;5;241m.\u001b[39mngens:\n\u001b[0;32m   7184\u001b[0m     \u001b[38;5;28;01mif\u001b[39;00m \u001b[38;5;129;01mnot\u001b[39;00m \u001b[38;5;28misinstance\u001b[39m(f, (\u001b[38;5;28mtuple\u001b[39m, Tuple)):\n",
      "File \u001b[1;32mc:\\Users\\Nelson\\miniconda3\\Lib\\site-packages\\sympy\\polys\\rings.py:163\u001b[0m, in \u001b[0;36msring\u001b[1;34m(exprs, *symbols, **options)\u001b[0m\n\u001b[0;32m    160\u001b[0m opt \u001b[38;5;241m=\u001b[39m build_options(symbols, options)\n\u001b[0;32m    162\u001b[0m \u001b[38;5;66;03m# TODO: rewrite this so that it doesn't use expand() (see poly()).\u001b[39;00m\n\u001b[1;32m--> 163\u001b[0m reps, opt \u001b[38;5;241m=\u001b[39m _parallel_dict_from_expr(exprs, opt)\n\u001b[0;32m    165\u001b[0m \u001b[38;5;28;01mif\u001b[39;00m opt\u001b[38;5;241m.\u001b[39mdomain \u001b[38;5;129;01mis\u001b[39;00m \u001b[38;5;28;01mNone\u001b[39;00m:\n\u001b[0;32m    166\u001b[0m     coeffs \u001b[38;5;241m=\u001b[39m \u001b[38;5;28msum\u001b[39m([ \u001b[38;5;28mlist\u001b[39m(rep\u001b[38;5;241m.\u001b[39mvalues()) \u001b[38;5;28;01mfor\u001b[39;00m rep \u001b[38;5;129;01min\u001b[39;00m reps ], [])\n",
      "File \u001b[1;32mc:\\Users\\Nelson\\miniconda3\\Lib\\site-packages\\sympy\\polys\\polyutils.py:344\u001b[0m, in \u001b[0;36m_parallel_dict_from_expr\u001b[1;34m(exprs, opt)\u001b[0m\n\u001b[0;32m    342\u001b[0m \u001b[38;5;250m\u001b[39m\u001b[38;5;124;03m\"\"\"Transform expressions into a multinomial form. \"\"\"\u001b[39;00m\n\u001b[0;32m    343\u001b[0m \u001b[38;5;28;01mif\u001b[39;00m opt\u001b[38;5;241m.\u001b[39mexpand \u001b[38;5;129;01mis\u001b[39;00m \u001b[38;5;129;01mnot\u001b[39;00m \u001b[38;5;28;01mFalse\u001b[39;00m:\n\u001b[1;32m--> 344\u001b[0m     exprs \u001b[38;5;241m=\u001b[39m [ expr\u001b[38;5;241m.\u001b[39mexpand() \u001b[38;5;28;01mfor\u001b[39;00m expr \u001b[38;5;129;01min\u001b[39;00m exprs ]\n\u001b[0;32m    346\u001b[0m \u001b[38;5;28;01mif\u001b[39;00m \u001b[38;5;28many\u001b[39m(expr\u001b[38;5;241m.\u001b[39mis_commutative \u001b[38;5;129;01mis\u001b[39;00m \u001b[38;5;28;01mFalse\u001b[39;00m \u001b[38;5;28;01mfor\u001b[39;00m expr \u001b[38;5;129;01min\u001b[39;00m exprs):\n\u001b[0;32m    347\u001b[0m     \u001b[38;5;28;01mraise\u001b[39;00m PolynomialError(\u001b[38;5;124m'\u001b[39m\u001b[38;5;124mnon-commutative expressions are not supported\u001b[39m\u001b[38;5;124m'\u001b[39m)\n",
      "File \u001b[1;32mc:\\Users\\Nelson\\miniconda3\\Lib\\site-packages\\sympy\\core\\cache.py:72\u001b[0m, in \u001b[0;36m__cacheit.<locals>.func_wrapper.<locals>.wrapper\u001b[1;34m(*args, **kwargs)\u001b[0m\n\u001b[0;32m     69\u001b[0m \u001b[38;5;129m@wraps\u001b[39m(func)\n\u001b[0;32m     70\u001b[0m \u001b[38;5;28;01mdef\u001b[39;00m \u001b[38;5;21mwrapper\u001b[39m(\u001b[38;5;241m*\u001b[39margs, \u001b[38;5;241m*\u001b[39m\u001b[38;5;241m*\u001b[39mkwargs):\n\u001b[0;32m     71\u001b[0m     \u001b[38;5;28;01mtry\u001b[39;00m:\n\u001b[1;32m---> 72\u001b[0m         retval \u001b[38;5;241m=\u001b[39m cfunc(\u001b[38;5;241m*\u001b[39margs, \u001b[38;5;241m*\u001b[39m\u001b[38;5;241m*\u001b[39mkwargs)\n\u001b[0;32m     73\u001b[0m     \u001b[38;5;28;01mexcept\u001b[39;00m \u001b[38;5;167;01mTypeError\u001b[39;00m \u001b[38;5;28;01mas\u001b[39;00m e:\n\u001b[0;32m     74\u001b[0m         \u001b[38;5;28;01mif\u001b[39;00m \u001b[38;5;129;01mnot\u001b[39;00m e\u001b[38;5;241m.\u001b[39margs \u001b[38;5;129;01mor\u001b[39;00m \u001b[38;5;129;01mnot\u001b[39;00m e\u001b[38;5;241m.\u001b[39margs[\u001b[38;5;241m0\u001b[39m]\u001b[38;5;241m.\u001b[39mstartswith(\u001b[38;5;124m'\u001b[39m\u001b[38;5;124munhashable type:\u001b[39m\u001b[38;5;124m'\u001b[39m):\n",
      "File \u001b[1;32mc:\\Users\\Nelson\\miniconda3\\Lib\\site-packages\\sympy\\core\\expr.py:3673\u001b[0m, in \u001b[0;36mExpr.expand\u001b[1;34m(self, deep, modulus, power_base, power_exp, mul, log, multinomial, basic, **hints)\u001b[0m\n\u001b[0;32m   3671\u001b[0m     \u001b[38;5;28;01mif\u001b[39;00m use_hint:\n\u001b[0;32m   3672\u001b[0m         hint \u001b[38;5;241m=\u001b[39m \u001b[38;5;124m'\u001b[39m\u001b[38;5;124m_eval_expand_\u001b[39m\u001b[38;5;124m'\u001b[39m \u001b[38;5;241m+\u001b[39m hint\n\u001b[1;32m-> 3673\u001b[0m         expr, hit \u001b[38;5;241m=\u001b[39m Expr\u001b[38;5;241m.\u001b[39m_expand_hint(expr, hint, deep\u001b[38;5;241m=\u001b[39mdeep, \u001b[38;5;241m*\u001b[39m\u001b[38;5;241m*\u001b[39mhints)\n\u001b[0;32m   3675\u001b[0m \u001b[38;5;28;01mwhile\u001b[39;00m \u001b[38;5;28;01mTrue\u001b[39;00m:\n\u001b[0;32m   3676\u001b[0m     was \u001b[38;5;241m=\u001b[39m expr\n",
      "File \u001b[1;32mc:\\Users\\Nelson\\miniconda3\\Lib\\site-packages\\sympy\\core\\expr.py:3604\u001b[0m, in \u001b[0;36mExpr._expand_hint\u001b[1;34m(expr, hint, deep, **hints)\u001b[0m\n\u001b[0;32m   3602\u001b[0m sargs \u001b[38;5;241m=\u001b[39m []\n\u001b[0;32m   3603\u001b[0m \u001b[38;5;28;01mfor\u001b[39;00m arg \u001b[38;5;129;01min\u001b[39;00m expr\u001b[38;5;241m.\u001b[39margs:\n\u001b[1;32m-> 3604\u001b[0m     arg, arghit \u001b[38;5;241m=\u001b[39m Expr\u001b[38;5;241m.\u001b[39m_expand_hint(arg, hint, \u001b[38;5;241m*\u001b[39m\u001b[38;5;241m*\u001b[39mhints)\n\u001b[0;32m   3605\u001b[0m     hit \u001b[38;5;241m|\u001b[39m\u001b[38;5;241m=\u001b[39m arghit\n\u001b[0;32m   3606\u001b[0m     sargs\u001b[38;5;241m.\u001b[39mappend(arg)\n",
      "File \u001b[1;32mc:\\Users\\Nelson\\miniconda3\\Lib\\site-packages\\sympy\\core\\expr.py:3612\u001b[0m, in \u001b[0;36mExpr._expand_hint\u001b[1;34m(expr, hint, deep, **hints)\u001b[0m\n\u001b[0;32m   3609\u001b[0m         expr \u001b[38;5;241m=\u001b[39m expr\u001b[38;5;241m.\u001b[39mfunc(\u001b[38;5;241m*\u001b[39msargs)\n\u001b[0;32m   3611\u001b[0m \u001b[38;5;28;01mif\u001b[39;00m \u001b[38;5;28mhasattr\u001b[39m(expr, hint):\n\u001b[1;32m-> 3612\u001b[0m     newexpr \u001b[38;5;241m=\u001b[39m \u001b[38;5;28mgetattr\u001b[39m(expr, hint)(\u001b[38;5;241m*\u001b[39m\u001b[38;5;241m*\u001b[39mhints)\n\u001b[0;32m   3613\u001b[0m     \u001b[38;5;28;01mif\u001b[39;00m newexpr \u001b[38;5;241m!=\u001b[39m expr:\n\u001b[0;32m   3614\u001b[0m         \u001b[38;5;28;01mreturn\u001b[39;00m (newexpr, \u001b[38;5;28;01mTrue\u001b[39;00m)\n",
      "File \u001b[1;32mc:\\Users\\Nelson\\miniconda3\\Lib\\site-packages\\sympy\\core\\mul.py:948\u001b[0m, in \u001b[0;36mMul._eval_expand_mul\u001b[1;34m(self, **hints)\u001b[0m\n\u001b[0;32m    946\u001b[0m \u001b[38;5;28;01mif\u001b[39;00m sums:\n\u001b[0;32m    947\u001b[0m     deep \u001b[38;5;241m=\u001b[39m hints\u001b[38;5;241m.\u001b[39mget(\u001b[38;5;124m\"\u001b[39m\u001b[38;5;124mdeep\u001b[39m\u001b[38;5;124m\"\u001b[39m, \u001b[38;5;28;01mFalse\u001b[39;00m)\n\u001b[1;32m--> 948\u001b[0m     terms \u001b[38;5;241m=\u001b[39m \u001b[38;5;28mself\u001b[39m\u001b[38;5;241m.\u001b[39mfunc\u001b[38;5;241m.\u001b[39m_expandsums(sums)\n\u001b[0;32m    949\u001b[0m     args \u001b[38;5;241m=\u001b[39m []\n\u001b[0;32m    950\u001b[0m     \u001b[38;5;28;01mfor\u001b[39;00m term \u001b[38;5;129;01min\u001b[39;00m terms:\n",
      "File \u001b[1;32mc:\\Users\\Nelson\\miniconda3\\Lib\\site-packages\\sympy\\core\\mul.py:913\u001b[0m, in \u001b[0;36mMul._expandsums\u001b[1;34m(sums)\u001b[0m\n\u001b[0;32m    910\u001b[0m right \u001b[38;5;241m=\u001b[39m Mul\u001b[38;5;241m.\u001b[39m_expandsums(sums[L\u001b[38;5;241m/\u001b[39m\u001b[38;5;241m/\u001b[39m\u001b[38;5;241m2\u001b[39m:])\n\u001b[0;32m    912\u001b[0m terms \u001b[38;5;241m=\u001b[39m [Mul(a, b) \u001b[38;5;28;01mfor\u001b[39;00m a \u001b[38;5;129;01min\u001b[39;00m left \u001b[38;5;28;01mfor\u001b[39;00m b \u001b[38;5;129;01min\u001b[39;00m right]\n\u001b[1;32m--> 913\u001b[0m added \u001b[38;5;241m=\u001b[39m Add(\u001b[38;5;241m*\u001b[39mterms)\n\u001b[0;32m    914\u001b[0m \u001b[38;5;28;01mreturn\u001b[39;00m Add\u001b[38;5;241m.\u001b[39mmake_args(added)\n",
      "File \u001b[1;32mc:\\Users\\Nelson\\miniconda3\\Lib\\site-packages\\sympy\\core\\cache.py:72\u001b[0m, in \u001b[0;36m__cacheit.<locals>.func_wrapper.<locals>.wrapper\u001b[1;34m(*args, **kwargs)\u001b[0m\n\u001b[0;32m     69\u001b[0m \u001b[38;5;129m@wraps\u001b[39m(func)\n\u001b[0;32m     70\u001b[0m \u001b[38;5;28;01mdef\u001b[39;00m \u001b[38;5;21mwrapper\u001b[39m(\u001b[38;5;241m*\u001b[39margs, \u001b[38;5;241m*\u001b[39m\u001b[38;5;241m*\u001b[39mkwargs):\n\u001b[0;32m     71\u001b[0m     \u001b[38;5;28;01mtry\u001b[39;00m:\n\u001b[1;32m---> 72\u001b[0m         retval \u001b[38;5;241m=\u001b[39m cfunc(\u001b[38;5;241m*\u001b[39margs, \u001b[38;5;241m*\u001b[39m\u001b[38;5;241m*\u001b[39mkwargs)\n\u001b[0;32m     73\u001b[0m     \u001b[38;5;28;01mexcept\u001b[39;00m \u001b[38;5;167;01mTypeError\u001b[39;00m \u001b[38;5;28;01mas\u001b[39;00m e:\n\u001b[0;32m     74\u001b[0m         \u001b[38;5;28;01mif\u001b[39;00m \u001b[38;5;129;01mnot\u001b[39;00m e\u001b[38;5;241m.\u001b[39margs \u001b[38;5;129;01mor\u001b[39;00m \u001b[38;5;129;01mnot\u001b[39;00m e\u001b[38;5;241m.\u001b[39margs[\u001b[38;5;241m0\u001b[39m]\u001b[38;5;241m.\u001b[39mstartswith(\u001b[38;5;124m'\u001b[39m\u001b[38;5;124munhashable type:\u001b[39m\u001b[38;5;124m'\u001b[39m):\n",
      "File \u001b[1;32mc:\\Users\\Nelson\\miniconda3\\Lib\\site-packages\\sympy\\core\\operations.py:68\u001b[0m, in \u001b[0;36mAssocOp.__new__\u001b[1;34m(cls, evaluate, _sympify, *args)\u001b[0m\n\u001b[0;32m     66\u001b[0m     \u001b[38;5;66;03m# This should raise TypeError once deprecation period is over:\u001b[39;00m\n\u001b[0;32m     67\u001b[0m     \u001b[38;5;28;01mfor\u001b[39;00m arg \u001b[38;5;129;01min\u001b[39;00m args:\n\u001b[1;32m---> 68\u001b[0m         \u001b[38;5;28;01mif\u001b[39;00m \u001b[38;5;129;01mnot\u001b[39;00m \u001b[38;5;28misinstance\u001b[39m(arg, typ):\n\u001b[0;32m     69\u001b[0m             sympy_deprecation_warning(\n\u001b[0;32m     70\u001b[0m                 \u001b[38;5;124mf\u001b[39m\u001b[38;5;124m\"\"\"\u001b[39m\n\u001b[0;32m     71\u001b[0m \n\u001b[1;32m   (...)\u001b[0m\n\u001b[0;32m     81\u001b[0m                 stacklevel\u001b[38;5;241m=\u001b[39m\u001b[38;5;241m4\u001b[39m,\n\u001b[0;32m     82\u001b[0m             )\n\u001b[0;32m     84\u001b[0m \u001b[38;5;28;01mif\u001b[39;00m evaluate \u001b[38;5;129;01mis\u001b[39;00m \u001b[38;5;28;01mNone\u001b[39;00m:\n",
      "\u001b[1;31mKeyboardInterrupt\u001b[0m: "
     ]
    }
   ],
   "source": [
    "#resuelve una ecuacion diferencial\n",
    "sp.dsolve(g,0) #la resolvemos"
   ]
  },
  {
   "cell_type": "code",
   "execution_count": 17,
   "metadata": {},
   "outputs": [
    {
     "name": "stdout",
     "output_type": "stream",
     "text": [
      "1.13.3\n"
     ]
    }
   ],
   "source": [
    "import sympy\n",
    "print(sympy.__version__)"
   ]
  },
  {
   "cell_type": "markdown",
   "metadata": {},
   "source": [
    "El resultado que hemos obtenido parece difícil de interpretar, pero si revisamos la resolución vista en clases:\n",
    "\n",
    "$$x^3+3x^2y^2+y^4=C, \\quad\\quad\\quad c\\in\\mathbb{R}$$\n",
    "\n",
    "podemos pensar que hay algún error, sin embargo si despejamos $y$ en términos de $x$, en el ejemplo anterior, tendremos: "
   ]
  },
  {
   "cell_type": "code",
   "execution_count": 25,
   "metadata": {},
   "outputs": [
    {
     "data": {
      "text/latex": [
       "$\\displaystyle \\left[ - \\sqrt{- \\frac{3 x^{2}}{2} - \\frac{\\sqrt{4 C + 9 x^{4} - 4 x^{3}}}{2}}, \\  \\sqrt{- \\frac{3 x^{2}}{2} - \\frac{\\sqrt{4 C + 9 x^{4} - 4 x^{3}}}{2}}, \\  - \\sqrt{- \\frac{3 x^{2}}{2} + \\frac{\\sqrt{4 C + 9 x^{4} - 4 x^{3}}}{2}}, \\  \\sqrt{- \\frac{3 x^{2}}{2} + \\frac{\\sqrt{4 C + 9 x^{4} - 4 x^{3}}}{2}}\\right]$"
      ],
      "text/plain": [
       "⎡       _________________________________        _____________________________ ↪\n",
       "⎢      ╱             ___________________        ╱             ________________ ↪\n",
       "⎢     ╱       2     ╱          4      3        ╱       2     ╱          4      ↪\n",
       "⎢    ╱     3⋅x    ╲╱  4⋅C + 9⋅x  - 4⋅x        ╱     3⋅x    ╲╱  4⋅C + 9⋅x  - 4⋅ ↪\n",
       "⎢-  ╱    - ──── - ────────────────────── ,   ╱    - ──── - ─────────────────── ↪\n",
       "⎣ ╲╱        2               2              ╲╱        2               2         ↪\n",
       "\n",
       "↪ ____         _________________________________        ______________________ ↪\n",
       "↪ ___         ╱             ___________________        ╱             _________ ↪\n",
       "↪  3         ╱       2     ╱          4      3        ╱       2     ╱          ↪\n",
       "↪ x         ╱     3⋅x    ╲╱  4⋅C + 9⋅x  - 4⋅x        ╱     3⋅x    ╲╱  4⋅C + 9⋅ ↪\n",
       "↪ ─── , -  ╱    - ──── + ────────────────────── ,   ╱    - ──── + ──────────── ↪\n",
       "↪        ╲╱        2               2              ╲╱        2               2  ↪\n",
       "\n",
       "↪ ___________⎤\n",
       "↪ __________ ⎥\n",
       "↪  4      3  ⎥\n",
       "↪ x  - 4⋅x   ⎥\n",
       "↪ ────────── ⎥\n",
       "↪            ⎦"
      ]
     },
     "execution_count": 25,
     "metadata": {},
     "output_type": "execute_result"
    }
   ],
   "source": [
    "from sympy.abc import C #identificamos a C como una constante simbólica\n",
    "\n",
    "#despeja una variable arbitraria de una ecuación que definamos de una ecuacion ordinaria \n",
    "                                       #se  despeja en terminos de y(x)\n",
    "sp.solve(x**3+3*x**2*y(x)**2+y(x)**4-C,y(x)) #resolvemos la ecuación en términos de y(x)"
   ]
  },
  {
   "cell_type": "markdown",
   "metadata": {},
   "source": [
    "Notamos que son el mismo resultado!\n",
    "\n",
    "Notamos también que debemos que ser capaces de identificar cuando los resultados son iguales, a pesar de que las expresiones se representen de manera diferente.\n",
    "\n",
    "## Comprobación\n",
    "\n",
    "Podemos comprobar los resultados de nuestros cálculos con la ayuda de Python. Consideremos para ello el siguiente ejemplo:\n",
    "\n",
    "### Ejemplo 02\n",
    "\n",
    "Resolver la EDO vista en clases:\n",
    "\n",
    "$$\\dfrac{dy}{dx} =3x^2y \\quad\\quad\\quad\\quad y(1)=2$$\n",
    "\n",
    "Compruebe sus resultados.\n",
    "\n",
    "Para ello primero declaramos la ecuación:"
   ]
  },
  {
   "cell_type": "code",
   "execution_count": 12,
   "metadata": {},
   "outputs": [
    {
     "data": {
      "text/latex": [
       "$\\displaystyle - 3 x^{2} y{\\left(x \\right)} + \\frac{d}{d x} y{\\left(x \\right)}$"
      ],
      "text/plain": [
       "     2        d       \n",
       "- 3⋅x ⋅y(x) + ──(y(x))\n",
       "              dx      "
      ]
     },
     "execution_count": 12,
     "metadata": {},
     "output_type": "execute_result"
    }
   ],
   "source": [
    "#esto es para verificar si esta bien declarada\n",
    "Eq=sp.diff(y(x),x)-3*x**2*y(x)\n",
    "Eq"
   ]
  },
  {
   "cell_type": "markdown",
   "metadata": {},
   "source": [
    "La resolvemos:\n",
    "($y(x)$ es la solución general de la EDO)."
   ]
  },
  {
   "cell_type": "code",
   "execution_count": 13,
   "metadata": {},
   "outputs": [
    {
     "data": {
      "text/latex": [
       "$\\displaystyle y{\\left(x \\right)} = C_{1} e^{x^{3}}$"
      ],
      "text/plain": [
       "           ⎛ 3⎞\n",
       "           ⎝x ⎠\n",
       "y(x) = C₁⋅ℯ    "
      ]
     },
     "execution_count": 13,
     "metadata": {},
     "output_type": "execute_result"
    }
   ],
   "source": [
    "#se resuelve la ecuación diferencial\n",
    "sp.dsolve(Eq)"
   ]
  },
  {
   "cell_type": "markdown",
   "metadata": {},
   "source": [
    "Ahora calculamos la constante con la ayuda de la condición inicial (Aquí $y(x)$ es la solución particular):"
   ]
  },
  {
   "cell_type": "code",
   "execution_count": null,
   "metadata": {},
   "outputs": [
    {
     "data": {
      "text/latex": [
       "$\\displaystyle y{\\left(x \\right)} = \\frac{2 e^{x^{3}}}{e}$"
      ],
      "text/plain": [
       "              ⎛ 3⎞\n",
       "          -1  ⎝x ⎠\n",
       "y(x) = 2⋅ℯ  ⋅ℯ    "
      ]
     },
     "execution_count": 15,
     "metadata": {},
     "output_type": "execute_result"
    }
   ],
   "source": [
    "#se resuelve la ecuación diferencial con condiciones iniciales\n",
    "#solucion particular explicita\n",
    "#se puede cambiar el valor inicial\n",
    "sp.dsolve(Eq, ics={y(1):2})"
   ]
  },
  {
   "cell_type": "markdown",
   "metadata": {},
   "source": [
    "Para comprobar nuestros resultados, debemos despejar variables (pues la ecuación es de variables separables):\n",
    "$$\\dfrac{dy}{y}= 3x^2dx$$\n",
    "\n",
    "Adenás debemos recordar que si $F'(x)=f(x)$, entonces:\n",
    "\n",
    "$$\\int f(x)dx=F(x)+C.$$\n",
    "\n",
    "Por tanto si consideramos:\n",
    "\n",
    "$$f(y)=\\dfrac{1}{y}\\quad\\quad\\quad\\quad g(x)=3x^2,$$\n",
    "    \n",
    "tendremos que:\n",
    "\n",
    "$$\\int f(y)dy=\\int g(x)dx$$\n",
    "\n",
    "Para calcular en `Python` definimos las funciones y las integramos:"
   ]
  },
  {
   "cell_type": "code",
   "execution_count": 22,
   "metadata": {},
   "outputs": [
    {
     "data": {
      "text/latex": [
       "$\\displaystyle \\log{\\left(x \\right)}$"
      ],
      "text/plain": [
       "log(x)"
      ]
     },
     "execution_count": 22,
     "metadata": {},
     "output_type": "execute_result"
    }
   ],
   "source": [
    "f = 1/x #usamos la variavle x, porque ya hemos definido y como función.\n",
    "sp.integrate(f,x)"
   ]
  },
  {
   "cell_type": "code",
   "execution_count": 23,
   "metadata": {},
   "outputs": [
    {
     "data": {
      "text/latex": [
       "$\\displaystyle x^{3}$"
      ],
      "text/plain": [
       " 3\n",
       "x "
      ]
     },
     "execution_count": 23,
     "metadata": {},
     "output_type": "execute_result"
    }
   ],
   "source": [
    "g=3*x**2\n",
    "sp.integrate(g,x)"
   ]
  },
  {
   "cell_type": "markdown",
   "metadata": {},
   "source": [
    "Tendremos entonces:\n",
    "\n",
    "$$\\ln(y)=x^3+c,$$\n",
    "\n",
    "despejando $y(x)$, tendremos:"
   ]
  },
  {
   "cell_type": "code",
   "execution_count": 26,
   "metadata": {},
   "outputs": [
    {
     "data": {
      "text/latex": [
       "$\\displaystyle \\left[ e^{- C + x^{3}}\\right]$"
      ],
      "text/plain": [
       "⎡       3⎤\n",
       "⎢ -C + x ⎥\n",
       "⎣ℯ       ⎦"
      ]
     },
     "execution_count": 26,
     "metadata": {},
     "output_type": "execute_result"
    }
   ],
   "source": [
    "e=sp.log(y(x))-x**3+C\n",
    "res=sp.solve(e,y(x))\n",
    "res"
   ]
  },
  {
   "cell_type": "markdown",
   "metadata": {},
   "source": [
    "Expresión que corresponde a la solución general de la EDO!!.\n",
    "\n",
    "### Ejercicio 01:\n",
    "\n",
    "En `Python` podemos declarar $\\sqrt[3]{2}$ de diferentes formas:\n",
    "* `2**(1/3)` mediante potencias.\n",
    "* `np.cbrt(2)` mediante el uso de la libreria `numpy`.\n",
    "* `sp.cbrt(2)` mediante el uso de la libreria `sympy`.\n",
    "\n",
    "Defina $\\sqrt[3]{2}$ usando las formas que se presentan y describa porqué son diferentes. Recuerde registrar su desarrollo de la forma más ordenada y coherente posible.  "
   ]
  },
  {
   "cell_type": "code",
   "execution_count": null,
   "metadata": {},
   "outputs": [
    {
     "data": {
      "text/latex": [
       "$\\displaystyle 1.25992104989487$"
      ],
      "text/plain": [
       "1.2599210498948732"
      ]
     },
     "execution_count": 27,
     "metadata": {},
     "output_type": "execute_result"
    }
   ],
   "source": [
    "raiz1 = 2 ** (1/3)\n",
    "raiz1"
   ]
  },
  {
   "cell_type": "code",
   "execution_count": 28,
   "metadata": {},
   "outputs": [
    {
     "data": {
      "text/latex": [
       "$\\displaystyle 1.25992104989487$"
      ],
      "text/plain": [
       "np.float64(1.259921049894873)"
      ]
     },
     "execution_count": 28,
     "metadata": {},
     "output_type": "execute_result"
    }
   ],
   "source": [
    "raiz2 = np.cbrt(2)\n",
    "raiz2"
   ]
  },
  {
   "cell_type": "code",
   "execution_count": 29,
   "metadata": {},
   "outputs": [
    {
     "data": {
      "text/latex": [
       "$\\displaystyle \\sqrt[3]{2}$"
      ],
      "text/plain": [
       "3 ___\n",
       "╲╱ 2 "
      ]
     },
     "execution_count": 29,
     "metadata": {},
     "output_type": "execute_result"
    }
   ],
   "source": [
    "raiz3 = sp.cbrt(2)\n",
    "raiz3"
   ]
  },
  {
   "cell_type": "markdown",
   "metadata": {},
   "source": [
    "### Ejercicio 02\n",
    "\n",
    "Para trabajar este ejercicio debe notar que al definir las variables, en `Python` obtendrá resultados diferentes si la define como `y=sp.Symbol(\"y\", real= True)` o como `y=sp.Symbol(\"y\")`.\n",
    "\n",
    "Ahora considere la EDO autónoma:\n",
    "\n",
    "$$(y^5 - 6 y^4 - 5 y^3 - 10 y^2 - 36 y + 56)dx+(y^2+1)dy = 0$$\n",
    "\n",
    "* a) Encuentre sus puntos estacionarios usando `y=sp.Symbol(\"y\", real= True)`.\n",
    "* b) Encuentre sus puntos estacionarios usando `y=sp.Symbol(\"y\")`.\n",
    "* c) Explique porqué se obtienen resultados diferentes. \n",
    "\n",
    "Recuerde registrar su desarrollo de la forma más ordenada y coherente posible.  "
   ]
  },
  {
   "cell_type": "code",
   "execution_count": null,
   "metadata": {},
   "outputs": [
    {
     "data": {
      "text/latex": [
       "$\\displaystyle \\left[ -2, \\  1, \\  7\\right]$"
      ],
      "text/plain": [
       "[-2, 1, 7]"
      ]
     },
     "execution_count": 30,
     "metadata": {},
     "output_type": "execute_result"
    }
   ],
   "source": [
    "y = sp.Symbol(\"y\", real= True)\n",
    "sp.solve(-y**5+6*y**4+5*y**3+10*y**2+36*y-56)"
   ]
  },
  {
   "cell_type": "code",
   "execution_count": null,
   "metadata": {},
   "outputs": [
    {
     "data": {
      "text/latex": [
       "$\\displaystyle \\left[ -2, \\  1, \\  7, \\  - 2 i, \\  2 i\\right]$"
      ],
      "text/plain": [
       "[-2, 1, 7, -2⋅ⅈ, 2⋅ⅈ]"
      ]
     },
     "execution_count": 31,
     "metadata": {},
     "output_type": "execute_result"
    },
    {
     "ename": "",
     "evalue": "",
     "output_type": "error",
     "traceback": [
      "\u001b[1;31mThe Kernel crashed while executing code in the current cell or a previous cell. \n",
      "\u001b[1;31mPlease review the code in the cell(s) to identify a possible cause of the failure. \n",
      "\u001b[1;31mClick <a href='https://aka.ms/vscodeJupyterKernelCrash'>here</a> for more info. \n",
      "\u001b[1;31mView Jupyter <a href='command:jupyter.viewOutput'>log</a> for further details."
     ]
    }
   ],
   "source": [
    "y=sp.Symbol(\"y\")\n",
    "sp.solve(-y**5+6*y**4+5*y**3+10*y**2+36*y-56)"
   ]
  },
  {
   "cell_type": "markdown",
   "metadata": {},
   "source": [
    "### Ejercicio 03\n",
    "\n",
    "Para trabajar este ejercicio debe notar que al buscar soluciones periódicas de ecuaciones diferenciales que involucran funciones trigonométricas la función `sp.solve(#ecuación#,#variable)` entregará un resultado limitado al argumento principal, mientras que la función `sp.solveset(#ecuación#,#variable)` nos entrega un panorama más amplio. Debemos notar sin embargo que `sp.solveset()` no pone atención en las restricciones de la función.\n",
    "\n",
    "Ahora considere la EDO\n",
    "\n",
    "$$\\sin y \\sqrt{y-1} dx - (x^2-1)dy = 0 $$\n",
    "\n",
    "* a) Encuentre las soluciones estacionarias de la EDO usando `sp.solve()`.\n",
    "* b) Encuentre las soluciones estacionarias de la EDO usando `sp.solveset()`.\n",
    "* c) Explique porqué se obtienen resultados diferentes y qué ventajas tiene cada método.\n",
    "\n",
    "Recuerde registrar su desarrollo de la forma más ordenada y coherente posible.  "
   ]
  },
  {
   "cell_type": "code",
   "execution_count": null,
   "metadata": {},
   "outputs": [],
   "source": [
    "#sp.Sin\n",
    "#sp.cos\n",
    "#sp.sqrt\n",
    "y = sp.Symbol(\"y\", real= True)\n",
    "sp.solve()"
   ]
  },
  {
   "cell_type": "markdown",
   "metadata": {},
   "source": [
    "### Ejercicio 04\n",
    "\n",
    "Resolver el PVI\n",
    "$$\\dfrac{dy}{dx} - y = 2e^x y^2 \\quad ; \\quad y(1)=\\pi.$$\n",
    "\n",
    "Recuerde registrar su desarrollo de la forma más ordenada y coherente posible.  "
   ]
  },
  {
   "cell_type": "code",
   "execution_count": null,
   "metadata": {},
   "outputs": [],
   "source": []
  },
  {
   "cell_type": "markdown",
   "metadata": {},
   "source": [
    "### Ejercicio 05\n",
    "\n",
    "Considere la siguiente EDO:\n",
    "\n",
    "$$\\left[ \\dfrac{\\ln(\\ln(y))}{x}+\\dfrac{2}{3}xy^3+6x \\right] dx+ \\left[\\dfrac{\\ln(x)}{y\\ln(y)}+x^2y^2+4e^{-2y} \\right]dy=0.$$\n",
    "\n",
    "* a) Verifique si es exacta.\n",
    "* b) Resuelva la ecuación.\n",
    "\n",
    "Recuerde registrar su desarrollo de la forma más ordenada y coherente posible.  "
   ]
  },
  {
   "cell_type": "code",
   "execution_count": null,
   "metadata": {},
   "outputs": [],
   "source": []
  }
 ],
 "metadata": {
  "kernelspec": {
   "display_name": "base",
   "language": "python",
   "name": "python3"
  },
  "language_info": {
   "codemirror_mode": {
    "name": "ipython",
    "version": 3
   },
   "file_extension": ".py",
   "mimetype": "text/x-python",
   "name": "python",
   "nbconvert_exporter": "python",
   "pygments_lexer": "ipython3",
   "version": "3.12.9"
  }
 },
 "nbformat": 4,
 "nbformat_minor": 4
}
