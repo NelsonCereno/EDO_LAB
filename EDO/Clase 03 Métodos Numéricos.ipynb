{
 "cells": [
  {
   "cell_type": "markdown",
   "metadata": {},
   "source": [
    "# Métodos numéricos\n",
    "\n",
    "Cuando trabajamos con métodos numéricos en la resolución de ecuaciones diferenciales, el objetivo es encontrar un conjunto de valores que se aproximen una solución particular de la ecuación diferencial propuesta.\n",
    "\n",
    "Existen diferentes algoritmos que permiten implementar estos métodos numéricos, algunos más certeros que otros, y por tanto es posible (en ocasiones) estimar el error y decidir qué método emplear en cada etapa de la busqueda de una buena aproximación de la solución.\n",
    "\n",
    "## Método de Euler\n",
    "\n",
    "Se utiliza para encontrar una aproximación de la solución al problema de valor inicial\n",
    "\n",
    "$$ y'=f(x,y) \\quad ; \\quad y(x_0)=y_0 $$\n",
    "\n",
    "el algoritmo asociado al método de Euler es:\n",
    "\n",
    "Para $i=0,1, ... , n-1$ realizar <br>\n",
    "*    $ x_i = x_0+ih $ <br>\n",
    "*    $y_{i+1}= y_i +h f(x_i , y_i) $ <br>\n",
    "Fin\n",
    "\n",
    "Para trabajar con este método definimos una nueva función en `Python`, llamada `Euler`, que permita encontrar una aproximación para $y(x_n)$ utilizando dicho método.\n",
    "\n",
    "\n",
    "### Funciones en `Python`\n",
    "Una función en `Python` es un bloque de código reutilizable que realiza una acción específica, de manera general, una función se define siguiendo la estructura mostrada a continuación:\n",
    "\n",
    "`def nombre_fun(arg1, arg2, ...., argn):\n",
    "    #cuerpo de la función\n",
    "    #\n",
    "    #\n",
    "    #\n",
    "    return val1, val2, ..., valn`\n",
    "\n",
    "En nuestro caso utilizamos un nombre qué indiqué el método que usaremos (`Euler`) y establecemos que los datos de entrada serán $f(x,y), x_0, x_n, y_0, n$"
   ]
  },
  {
   "cell_type": "code",
   "execution_count": 1,
   "metadata": {},
   "outputs": [],
   "source": [
    "import matplotlib.pyplot as plt\n",
    "import numpy as np\n",
    "\n",
    "def Euler(f,x0,xn,y0,n): #nuestra función se llama Euler y sus datos de entrada son f,x0,xn,y0,n\n",
    "    X = np.linspace(x0,xn,n+1)         \n",
    "    Y = np.linspace(x0,xn,n+1)                 \n",
    "    Y[0] = y0\n",
    "    h=(xn-x0)/n\n",
    "    for i in range(n):\n",
    "        Y[i+1] = Y[i] + h*f(X[i],Y[i])\n",
    "    return Y"
   ]
  },
  {
   "cell_type": "markdown",
   "metadata": {},
   "source": [
    "Una vez que hemos definido la función  `Euler`, podemos abordar el siguiente ejemplo:\n",
    "\n",
    "### Ejemplo 01\n",
    "\n",
    "Considere el siguiente PVI, visto en clases:\n",
    "\n",
    "$$ y'=y \\quad ; \\quad y(0)=1.$$\n",
    "\n",
    "- a) Encuentre su solución.\n",
    "- b) Use dicha solución, para encontrar una aproximación de $e$.\n",
    "\n",
    "#### Solución:\n",
    "\n",
    "- a) Buscamos su solución usando Python:\n"
   ]
  },
  {
   "cell_type": "code",
   "execution_count": 2,
   "metadata": {},
   "outputs": [
    {
     "data": {
      "text/latex": [
       "$\\displaystyle \\frac{d}{d x} y{\\left(x \\right)} = y{\\left(x \\right)}$"
      ],
      "text/plain": [
       "d              \n",
       "──(y(x)) = y(x)\n",
       "dx             "
      ]
     },
     "execution_count": 2,
     "metadata": {},
     "output_type": "execute_result"
    }
   ],
   "source": [
    "#declaramos la ecuación.\n",
    "import numpy as np\n",
    "import sympy as sp\n",
    "from sympy import *\n",
    "sp.init_printing(use_latex='mathjax') \n",
    "# Resolviendo ecuación diferencial\n",
    "# defino las incognitas\n",
    "x = sp.Symbol('x', real=True)\n",
    "y = sp.Function('y')\n",
    "\n",
    "# expreso la ecuacion\n",
    "f = y(x)\n",
    "sp.Eq(y(x).diff(x), f)"
   ]
  },
  {
   "cell_type": "code",
   "execution_count": 3,
   "metadata": {},
   "outputs": [
    {
     "data": {
      "text/latex": [
       "$\\displaystyle y{\\left(x \\right)} = e^{x}$"
      ],
      "text/plain": [
       "        x\n",
       "y(x) = ℯ "
      ]
     },
     "execution_count": 3,
     "metadata": {},
     "output_type": "execute_result"
    }
   ],
   "source": [
    "#ahora resolvemos el PVI:\n",
    "sp.dsolve(y(x).diff(x) - f, ics={y(0):1})"
   ]
  },
  {
   "cell_type": "markdown",
   "metadata": {},
   "source": [
    "La solución de la ecuación diferencial es $y(x)=e^x$.\n",
    "\n",
    "- b) Para encontrar una eproximación de $e$, basta considerar $x=1$ y tendremos:\n",
    "\n",
    "$y(1)=e$.\n",
    "Así, entonces usaremos el método de Euler para encontrar una aproximación, usando la función solución del PVI:"
   ]
  },
  {
   "cell_type": "code",
   "execution_count": 4,
   "metadata": {},
   "outputs": [
    {
     "data": {
      "text/plain": [
       "array([1.        , 1.01      , 1.0201    , 1.030301  , 1.04060401,\n",
       "       1.05101005, 1.06152015, 1.07213535, 1.08285671, 1.09368527,\n",
       "       1.10462213, 1.11566835, 1.12682503, 1.13809328, 1.14947421,\n",
       "       1.16096896, 1.17257864, 1.18430443, 1.19614748, 1.20810895,\n",
       "       1.22019004, 1.23239194, 1.24471586, 1.25716302, 1.26973465,\n",
       "       1.282432  , 1.29525631, 1.30820888, 1.32129097, 1.33450388,\n",
       "       1.34784892, 1.3613274 , 1.37494068, 1.38869009, 1.40257699,\n",
       "       1.41660276, 1.43076878, 1.44507647, 1.45952724, 1.47412251,\n",
       "       1.48886373, 1.50375237, 1.51878989, 1.53397779, 1.54931757,\n",
       "       1.56481075, 1.58045885, 1.59626344, 1.61222608, 1.62834834,\n",
       "       1.64463182, 1.66107814, 1.67768892, 1.69446581, 1.71141047,\n",
       "       1.72852457, 1.74580982, 1.76326792, 1.7809006 , 1.7987096 ,\n",
       "       1.8166967 , 1.83486367, 1.8532123 , 1.87174443, 1.89046187,\n",
       "       1.90936649, 1.92846015, 1.94774475, 1.9672222 , 1.98689442,\n",
       "       2.00676337, 2.026831  , 2.04709931, 2.06757031, 2.08824601,\n",
       "       2.10912847, 2.13021975, 2.15152195, 2.17303717, 2.19476754,\n",
       "       2.21671522, 2.23888237, 2.26127119, 2.2838839 , 2.30672274,\n",
       "       2.32978997, 2.35308787, 2.37661875, 2.40038494, 2.42438879,\n",
       "       2.44863267, 2.473119  , 2.49785019, 2.52282869, 2.54805698,\n",
       "       2.57353755, 2.59927293, 2.62526565, 2.65151831, 2.67803349,\n",
       "       2.70481383])"
      ]
     },
     "execution_count": 4,
     "metadata": {},
     "output_type": "execute_result"
    }
   ],
   "source": [
    "#definimos la función que queremos resolver\n",
    "\n",
    "def f(x,y): return y #primero definimos la función\n",
    "\n",
    "#f,x0,xn,y0,n\n",
    "\n",
    "Euler(f, 0,1,1,100) #llamamos a la función que aplica el método."
   ]
  },
  {
   "cell_type": "markdown",
   "metadata": {},
   "source": [
    "Lo que hemos obtenido es una aproximación, dada por:\n",
    "\n",
    "$$y(1)\\approx 2.70481383.$$\n",
    "\n",
    "Podemos calcular el error obtenido en la aproximación, "
   ]
  },
  {
   "cell_type": "code",
   "execution_count": 5,
   "metadata": {},
   "outputs": [
    {
     "data": {
      "text/latex": [
       "$\\displaystyle 0.495459995962011$"
      ],
      "text/plain": [
       "0.4954599959620114"
      ]
     },
     "execution_count": 5,
     "metadata": {},
     "output_type": "execute_result"
    }
   ],
   "source": [
    "e_e=np.abs(np.exp(1)-Euler(f, 0,1,1,100)[-1])/np.exp(1)*100 #error_euler\n",
    "e_e\n",
    "\n",
    "# e = | Valorreal - aprox|\n",
    "# Er = e / |valorreal| -> e% = Er * 100\n",
    "#"
   ]
  },
  {
   "cell_type": "markdown",
   "metadata": {},
   "source": [
    "Lo que corresponde a un error cercano al $0.495459995962011 \\%$.\n",
    "\n",
    "\n",
    "## Método de Runge Kutta de orden 4 (RK4)\n",
    "\n",
    "\n",
    "Para el problema \n",
    "$$ y'=f(x,y) \\quad ; \\quad y(x_0)=y_0 $$\n",
    "\n",
    "el algoritmo asociado al método RK4 está dado por:\n",
    "    \n",
    "Para $i=0,1, ... , n-1$ realizar <br>\n",
    "\n",
    "*    $ x_i = x_0+ih $ <br>\n",
    "\n",
    "*    $ K_1 = f(x_i,y_i) $ <br>\n",
    "\n",
    "*    $ K_2 = f\\left( x_i + \\dfrac{h}{2} , y_i + \\dfrac{h}{2} K_1 \\right) $ <br>\n",
    "\n",
    "*    $ K_3 = f\\left( x_i + \\dfrac{h}{2} , y_i + \\dfrac{h}{2} K_2 \\right) $ <br>\n",
    "\n",
    "*    $ K_4 = f\\left( x_i + h , y_i + h K_3 \\right) $ <br>\n",
    "\n",
    "*    $y_{i+1} = y_i + \\dfrac{h}{6} \\left[ K_1 + 2K_2 + 2K_3 + K_4 \\right] $ <br>\n",
    "\n",
    "Fin\n",
    "\n",
    "Para trabajar con este método definimos una nueva función en `Python`, llamada `RK4`, que permita encontrar una aproximación para $y(x_n)$ utilizando dicho método. Establecemos que los datos de entrada serán $f(x,y), x_0, x_n, y_0, n$"
   ]
  },
  {
   "cell_type": "code",
   "execution_count": 6,
   "metadata": {},
   "outputs": [],
   "source": [
    "def RK4(f, x0, xn, y0, n):\n",
    "    X = np.linspace(x0,xn,n+1)\n",
    "    Y = np.linspace(x0,xn,n+1)                 \n",
    "    Y[0] = y0        \n",
    "    h = (xn-x0)/n     \n",
    "    for i in range(n):\n",
    "        K1=f(X[i],Y[i]) \n",
    "        K2=f(X[i]+h/2,Y[i]+(h/2)*K1) \n",
    "        K3=f(X[i]+h/2,Y[i]+(h/2)*K2) \n",
    "        K4=f(X[i]+h,Y[i]+h*K3)\n",
    "        Y[i+1] = Y[i] +(h/6)*(K1+2*K2+2*K3+K4)        \n",
    "    return Y"
   ]
  },
  {
   "cell_type": "markdown",
   "metadata": {},
   "source": [
    "Una vez que hemos definido la función  `RK4`, podemos abordar el mismo ejemplo anterior (visto en clases), pero ahora usamos el método RK4.\n",
    "\n",
    "### Ejemplo 02\n",
    "\n",
    "Dado el PVI:\n",
    "\n",
    "$$ y'=y \\quad ; \\quad y(0)=1.$$\n",
    "\n",
    "Use su solución para encontrar una aproximación de $e$.\n",
    "\n",
    "#### Solución:\n",
    "\n",
    "Anteriormente ya hemos definido la función, por tanto llamamos directamente al método:"
   ]
  },
  {
   "cell_type": "code",
   "execution_count": 7,
   "metadata": {},
   "outputs": [
    {
     "data": {
      "text/plain": [
       "array([1.        , 1.01005017, 1.02020134, 1.03045453, 1.04081077,\n",
       "       1.0512711 , 1.06183655, 1.07250818, 1.08328707, 1.09417428,\n",
       "       1.10517092, 1.11627807, 1.12749685, 1.13882838, 1.1502738 ,\n",
       "       1.16183424, 1.17351087, 1.18530485, 1.19721736, 1.2092496 ,\n",
       "       1.22140276, 1.23367806, 1.24607673, 1.25860001, 1.27124915,\n",
       "       1.28402542, 1.29693009, 1.30996445, 1.32312981, 1.33642749,\n",
       "       1.34985881, 1.36342511, 1.37712776, 1.39096813, 1.40494759,\n",
       "       1.41906755, 1.43332941, 1.44773461, 1.46228459, 1.47698079,\n",
       "       1.4918247 , 1.50681779, 1.52196156, 1.53725752, 1.55270722,\n",
       "       1.56831219, 1.58407398, 1.59999419, 1.6160744 , 1.63231622,\n",
       "       1.64872127, 1.66529119, 1.68202765, 1.69893231, 1.71600686,\n",
       "       1.73325302, 1.7506725 , 1.76826705, 1.78603843, 1.80398842,\n",
       "       1.8221188 , 1.8404314 , 1.85892804, 1.87761058, 1.89648088,\n",
       "       1.91554083, 1.93479233, 1.95423732, 1.97387773, 1.99371553,\n",
       "       2.01375271, 2.03399126, 2.05443321, 2.07508061, 2.09593551,\n",
       "       2.11700002, 2.13827622, 2.15976625, 2.18147227, 2.20339643,\n",
       "       2.22554093, 2.24790799, 2.27049984, 2.29331874, 2.31636698,\n",
       "       2.33964685, 2.36316069, 2.38691085, 2.41089971, 2.43512965,\n",
       "       2.45960311, 2.48432253, 2.50929039, 2.53450918, 2.55998142,\n",
       "       2.58570966, 2.61169647, 2.63794446, 2.66445624, 2.69123447,\n",
       "       2.71828183])"
      ]
     },
     "execution_count": 7,
     "metadata": {},
     "output_type": "execute_result"
    }
   ],
   "source": [
    "RK4(f, 0, 1, 1, 100)"
   ]
  },
  {
   "cell_type": "markdown",
   "metadata": {},
   "source": [
    "y calculamos su error:"
   ]
  },
  {
   "cell_type": "code",
   "execution_count": 8,
   "metadata": {},
   "outputs": [
    {
     "data": {
      "text/latex": [
       "$\\displaystyle 8.26408771096301 \\cdot 10^{-9}$"
      ],
      "text/plain": [
       "8.264087710963014e-09"
      ]
     },
     "execution_count": 8,
     "metadata": {},
     "output_type": "execute_result"
    }
   ],
   "source": [
    "e_rk4=np.abs(np.exp(1)-RK4(f, 0,1,1,100)[-1])/np.exp(1)*100 #error_rk4\n",
    "e_rk4"
   ]
  },
  {
   "cell_type": "markdown",
   "metadata": {},
   "source": [
    "Si queremos que el resultado se muestre con más valores después de la coma, hacemos:"
   ]
  },
  {
   "cell_type": "code",
   "execution_count": 9,
   "metadata": {},
   "outputs": [
    {
     "name": "stdout",
     "output_type": "stream",
     "text": [
      "El error mediante el método RK4 es: 0.00000000826408771096%\n"
     ]
    }
   ],
   "source": [
    "print('El error mediante el método RK4 es: {:,.20f}'.format(e_rk4)+ \"%\")"
   ]
  },
  {
   "attachments": {
    "image-3.png": {
     "image/png": "[encoded data removed]"
    }
   },
   "cell_type": "markdown",
   "metadata": {},
   "source": [
    "Claramente, notamos que el método RK4 nos entrega una mejor aproximación pues:\n",
    "\n",
    "![image-3.png](attachment:image-3.png)\n",
    "\n",
    "## Ejercicios\n",
    "\n",
    "### Ejercicio 01\n",
    "\n",
    "Considere el problema de valores iniciales:\n",
    "\n",
    "$$ y'=\\dfrac{y}{x}+x\\mathrm{e}^{-\\frac{y}{x}} \\quad ; \\quad y(1)=2.$$\n",
    "\n",
    "* a) Utilice el método de Euler para encontrar una aproximación de $y(11)$ donde $h=1$.\n",
    "* b) Usando Python resuelva la ecuación y determine si es una buena aproximación (haga un análisis del error obtenido)."
   ]
  },
  {
   "cell_type": "code",
   "execution_count": 10,
   "metadata": {},
   "outputs": [
    {
     "data": {
      "text/plain": [
       "array([ 2.        ,  4.13533528,  6.4559638 ,  8.9567102 , 11.62207214,\n",
       "       14.43569017, 17.38271812, 20.45026675, 23.62729081, 26.90433723,\n",
       "       30.273286  ])"
      ]
     },
     "execution_count": 10,
     "metadata": {},
     "output_type": "execute_result"
    }
   ],
   "source": [
    "def f(x,y): return y/x + x*np.exp(-y/x)\n",
    "\n",
    "n = (11-1)/1\n",
    "n\n",
    "\n",
    "#f,x0,xn,y0,n\n",
    "Euler(f, 1,11,2,10)\n",
    "\n"
   ]
  },
  {
   "cell_type": "markdown",
   "metadata": {},
   "source": [
    "### Ejercicio 02\n",
    "\n",
    "Considere el siguiente PVI:\n",
    "\n",
    "$$ y' = 0,2xy \\quad ; \\quad y(0) = 1.$$\n",
    "\n",
    "* a) Utilice el método RK4 para encontrar una aproximación de $y(4)$ donde $h=1$.\n",
    "* b) Usando Python resuelva la ecuación y determine si es una buena aproximación (haga un análisis del error obtenido)."
   ]
  },
  {
   "cell_type": "code",
   "execution_count": 11,
   "metadata": {},
   "outputs": [
    {
     "data": {
      "text/plain": [
       "array([1.        , 1.00626957, 1.02531512, 1.05786211, 1.10517091])"
      ]
     },
     "execution_count": 11,
     "metadata": {},
     "output_type": "execute_result"
    }
   ],
   "source": [
    "def f(x,y): return 0.2*x*y\n",
    "\n",
    "n = (4-0)/1\n",
    "n\n",
    "\n",
    "#f,x0,xn,y0,n\n",
    "RK4(f, 0, 1, 1, 4)\n"
   ]
  },
  {
   "cell_type": "markdown",
   "metadata": {},
   "source": [
    "### Ejercicio 03: \n",
    "\n",
    "La ecuación\n",
    "$$\\frac{dP}{dt}=kP\\left(1-\\frac{P}{N} \\right)-a$$\n",
    "representa unn modelo logístico de crecimiento poblacional con cosecha constante.\n",
    "\n",
    "Para una cierta variedad de pez comestible, se considera $a=0.5$, $k=3$ y $N=10$, donde $N$ y $P(t)$ están medidas en miles.\n",
    "\n",
    "Suponga que en el instante $t=0$ (medido en días) la población inicial de peces es $2600$.\n",
    "\n",
    "* a) Use el método RK4 para estimar la población de peces al cabo de una semana.\n",
    "\n",
    "* b) Estime la cantidad de peces diarios al cabo de un año completo. ¿La población de peces se estabiliza después de cierto tiempo? ¿Qué se espera de $P(t)$ si $t \\to \\infty$?\n",
    "\n",
    "* c) La EDO resultante es autónoma. Utilice técnicas cualitativas para corroborar los resultados anteriores.\n",
    "\n",
    "* d) Resuelva la EDO vía separación de variables, luego calcule la población al cabo de un año. Compruebe si sus resultados coinciden con los obtenidos anteriormente."
   ]
  },
  {
   "cell_type": "code",
   "execution_count": 12,
   "metadata": {},
   "outputs": [
    {
     "data": {
      "text/plain": [
       "array([2600.        , 4264.65904643, 6114.79428542, 7690.80969417,\n",
       "       8756.55379971])"
      ]
     },
     "execution_count": 12,
     "metadata": {},
     "output_type": "execute_result"
    }
   ],
   "source": [
    "#Y/X\n",
    "\n",
    "def f(x,y): return 3*y*(1-y/10000) - 0.5\n",
    "\n",
    "#n = (4-0)/1\n",
    "#n\n",
    "\n",
    "#f,x0,xn,y0,n\n",
    "RK4(f, 0, 1, 2600, 4)\n",
    "\n",
    "\n",
    "\n",
    "\n",
    "\n",
    "\n"
   ]
  }
 ],
 "metadata": {
  "kernelspec": {
   "display_name": "base",
   "language": "python",
   "name": "python3"
  },
  "language_info": {
   "codemirror_mode": {
    "name": "ipython",
    "version": 3
   },
   "file_extension": ".py",
   "mimetype": "text/x-python",
   "name": "python",
   "nbconvert_exporter": "python",
   "pygments_lexer": "ipython3",
   "version": "3.12.7"
  }
 },
 "nbformat": 4,
 "nbformat_minor": 5
}
