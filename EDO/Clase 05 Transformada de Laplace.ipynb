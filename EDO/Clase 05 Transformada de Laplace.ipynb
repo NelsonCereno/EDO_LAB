{
 "cells": [
  {
   "cell_type": "code",
   "execution_count": 36,
   "metadata": {},
   "outputs": [],
   "source": [
    "import matplotlib.pyplot as plt\n",
    "import sympy as sp"
   ]
  },
  {
   "cell_type": "markdown",
   "metadata": {},
   "source": [
    "# Transformada de Laplace\n",
    "\n",
    "Si $f(t)$ es una función definida en $[0,\\infty[$ con $t$ y $f$ reales, entonces la transformada de Laplace de la función $f$ se denota por $\\mathcal{L}\\lbrace f(t) \\rbrace = F(s)$ y se define como la integral\n",
    "$$ \\mathcal{L}\\lbrace f(t) \\rbrace = F(s) = \\int_{0}^{\\infty} f(t) e^{-st} dt $$\n",
    "siempre que la anterior sea convergente.\n",
    "\n",
    "Como la transformada de Laplace es una integral, mediante Pyton podríamos querer calcularla directamente, eso podemos hacerlo mediante la función `integrate`. Para ello resolvamos el siguiente ejemplo:\n",
    "\n",
    "### Ejemplo 01\n",
    "\n",
    "Integrando, calcular \n",
    "$$\\mathcal{L}\\lbrace t^3 \\rbrace = \\displaystyle\\int_{0}^{\\infty} t^3 e^{-st } dt.$$\n",
    "\n",
    "Para resolver el ejemplo, primero debemos importar las librerias que podremos necesitar:"
   ]
  },
  {
   "cell_type": "code",
   "execution_count": 37,
   "metadata": {},
   "outputs": [
    {
     "data": {
      "image/png": "[encoded data removed]",
      "text/latex": [
       "$\\displaystyle t^{3}$"
      ],
      "text/plain": [
       " 3\n",
       "t "
      ]
     },
     "execution_count": 37,
     "metadata": {},
     "output_type": "execute_result"
    }
   ],
   "source": [
    "import sympy as sp\n",
    "sp.init_printing()\n",
    "import matplotlib.pyplot as plt\n",
    "%matplotlib inline\n",
    "from sympy import integrate, init_printing #importamos paquete para integrar\n",
    "\n",
    "# definimos algunos objetos con los que queremos trabajar.\n",
    "t, s = sp.symbols('t, s', positive = True) #símbolos\n",
    "a = sp.symbols('a', real=True, positive=True) #símbolo real positivo\n",
    "\n",
    "#definimos la función con la que queremos trabajar\n",
    "f = t**3\n",
    "f #la imprimimos, para verificar"
   ]
  },
  {
   "cell_type": "code",
   "execution_count": 38,
   "metadata": {},
   "outputs": [
    {
     "data": {
      "image/png": "[encoded data removed]",
      "text/latex": [
       "$\\displaystyle \\frac{6}{s^{4}}$"
      ],
      "text/plain": [
       "6 \n",
       "──\n",
       " 4\n",
       "s "
      ]
     },
     "execution_count": 38,
     "metadata": {},
     "output_type": "execute_result"
    }
   ],
   "source": [
    "#definimos la función de Laplace\n",
    "                        #diferencial , cota inferior, cota superior\n",
    "sp.integrate(f*sp.exp(-s*t), (t, 0, sp.oo))"
   ]
  },
  {
   "cell_type": "markdown",
   "metadata": {},
   "source": [
    "Para poder trabajar de forma más fluida, `Sympy` tiene una función llamada `laplace_transform` que hace esto de manera eficiente y que también retorna condiciones de convergencia de la integral:\n",
    "\n",
    "## `laplace_transform( )`\n",
    "\n",
    "### Ejemplo 02\n",
    "\n",
    "Usemos la función `laplace_transform( )` para calcular la misma Transformada de Laplace anterior:"
   ]
  },
  {
   "cell_type": "code",
   "execution_count": 39,
   "metadata": {},
   "outputs": [
    {
     "data": {
      "image/png": "[encoded data removed]",
      "text/latex": [
       "$\\displaystyle \\left( \\frac{6}{s^{4}}, \\  0, \\  \\text{True}\\right)$"
      ],
      "text/plain": [
       "⎛6          ⎞\n",
       "⎜──, 0, True⎟\n",
       "⎜ 4         ⎟\n",
       "⎝s          ⎠"
      ]
     },
     "execution_count": 39,
     "metadata": {},
     "output_type": "execute_result"
    }
   ],
   "source": [
    "from sympy import laplace_transform\n",
    "\n",
    "sp.laplace_transform(f, t, s)"
   ]
  },
  {
   "cell_type": "markdown",
   "metadata": {},
   "source": [
    "Si deseamos solo la función sin importar las condiciones de convergencia, agregamos `noconds=True`:"
   ]
  },
  {
   "cell_type": "code",
   "execution_count": 40,
   "metadata": {},
   "outputs": [
    {
     "data": {
      "image/png": "[encoded data removed]",
      "text/latex": [
       "$\\displaystyle \\frac{6}{s^{4}}$"
      ],
      "text/plain": [
       "6 \n",
       "──\n",
       " 4\n",
       "s "
      ]
     },
     "execution_count": 40,
     "metadata": {},
     "output_type": "execute_result"
    }
   ],
   "source": [
    "sp.laplace_transform(f, t, s, noconds=True)"
   ]
  },
  {
   "cell_type": "markdown",
   "metadata": {},
   "source": [
    "Python también tiene la función\n",
    "\n",
    "## `inverse_laplace_transform( )`\n",
    "\n",
    "### Ejemplo 03\n",
    "\n",
    "Calcule la transformada inversa de la función $\\frac{6}{s^4}$.\n",
    "\n",
    "Para ello definimos $F$ en base al cálculo anterior:"
   ]
  },
  {
   "cell_type": "code",
   "execution_count": 41,
   "metadata": {},
   "outputs": [
    {
     "data": {
      "image/png": "[encoded data removed]",
      "text/latex": [
       "$\\displaystyle \\frac{6}{s^{4}}$"
      ],
      "text/plain": [
       "6 \n",
       "──\n",
       " 4\n",
       "s "
      ]
     },
     "execution_count": 41,
     "metadata": {},
     "output_type": "execute_result"
    }
   ],
   "source": [
    "F = sp.laplace_transform(f, t, s, noconds=True)\n",
    "F"
   ]
  },
  {
   "cell_type": "markdown",
   "metadata": {},
   "source": [
    "Ahora calculamos la inversa solicitada:"
   ]
  },
  {
   "cell_type": "code",
   "execution_count": 42,
   "metadata": {},
   "outputs": [
    {
     "data": {
      "image/png": "[encoded data removed]",
      "text/latex": [
       "$\\displaystyle t^{3}$"
      ],
      "text/plain": [
       " 3\n",
       "t "
      ]
     },
     "execution_count": 42,
     "metadata": {},
     "output_type": "execute_result"
    }
   ],
   "source": [
    "sp.inverse_laplace_transform(F, s, t)"
   ]
  },
  {
   "cell_type": "markdown",
   "metadata": {},
   "source": [
    "## ¿Qué es $\\theta$?\n",
    "\n",
    "Es la función paso unitario, también conocida como la función de Heaviside. Esta función la encontraremos a menudo al trabajar con la inversa de Laplace. Mediante Sympy la podemos llamar como:"
   ]
  },
  {
   "cell_type": "code",
   "execution_count": 43,
   "metadata": {},
   "outputs": [
    {
     "data": {
      "image/png": "[encoded data removed]",
      "text/latex": [
       "$\\displaystyle 1$"
      ],
      "text/plain": [
       "1"
      ]
     },
     "execution_count": 43,
     "metadata": {},
     "output_type": "execute_result"
    }
   ],
   "source": [
    "sp.Heaviside(t)"
   ]
  },
  {
   "cell_type": "markdown",
   "metadata": {},
   "source": [
    "Y gráficamente es:"
   ]
  },
  {
   "cell_type": "code",
   "execution_count": 44,
   "metadata": {},
   "outputs": [
    {
     "data": {
      "image/png": "[encoded data removed]",
      "text/plain": [
       "<Figure size 640x480 with 1 Axes>"
      ]
     },
     "metadata": {},
     "output_type": "display_data"
    },
    {
     "data": {
      "text/plain": [
       "<sympy.plotting.backends.matplotlibbackend.matplotlib.MatplotlibBackend at 0x221d4c35c10>"
      ]
     },
     "execution_count": 44,
     "metadata": {},
     "output_type": "execute_result"
    }
   ],
   "source": [
    "sp.plot(sp.Heaviside(t))"
   ]
  },
  {
   "cell_type": "markdown",
   "metadata": {},
   "source": [
    "### Ejemplo 04\n",
    "\n",
    "Calcule la Transformada de Laplace de $\\sin(t) $.\n",
    "\n",
    "Definimos primero la función $ f(t) = \\sin(t) $ en `SymPy`. Luego usamos la función `laplace_transform` para encontrar su transformada.\n",
    "\n",
    "Recordemos que la Transformada de Laplace de $ \\sin(at) $ es:\n",
    "\n",
    "$$ \\mathcal{L}\\lbrace \\sin(at) \\rbrace = \\frac{a}{s^2 + a^2} $$"
   ]
  },
  {
   "cell_type": "code",
   "execution_count": 45,
   "metadata": {},
   "outputs": [
    {
     "data": {
      "image/png": "[encoded data removed]",
      "text/latex": [
       "$\\displaystyle \\frac{a}{a^{2} + s^{2}}$"
      ],
      "text/plain": [
       "   a   \n",
       "───────\n",
       " 2    2\n",
       "a  + s "
      ]
     },
     "execution_count": 45,
     "metadata": {},
     "output_type": "execute_result"
    }
   ],
   "source": [
    "f_sin = sp.sin(a*t)\n",
    "laplace_transform(f_sin, t, s, noconds=True)"
   ]
  },
  {
   "cell_type": "markdown",
   "metadata": {},
   "source": [
    "## Ejercicios:\n",
    "\n",
    "### Ejercicio 01\n",
    "\n",
    "Calcular transformada de Laplace de $f(t)=\\cos t$ y de $g(t)=\\cosh(2t)$"
   ]
  },
  {
   "cell_type": "code",
   "execution_count": null,
   "metadata": {},
   "outputs": [],
   "source": []
  },
  {
   "cell_type": "markdown",
   "metadata": {},
   "source": [
    "### Ejericicio 02\n",
    "Calcular la transformada inversa de Laplace $F(s)= \\dfrac{1}{s}$"
   ]
  },
  {
   "cell_type": "code",
   "execution_count": null,
   "metadata": {},
   "outputs": [],
   "source": []
  },
  {
   "cell_type": "markdown",
   "metadata": {},
   "source": [
    "### Ejericicio 03\n",
    "\n",
    "Calcular transformada de Laplace de $f(t)=e^{-\\alpha t}$ con $\\alpha \\in \\mathbb{R}^+$. Utilice su resultado para calcular su inversa."
   ]
  },
  {
   "cell_type": "code",
   "execution_count": null,
   "metadata": {},
   "outputs": [],
   "source": []
  },
  {
   "cell_type": "markdown",
   "metadata": {},
   "source": [
    "### Ejericicio 04\n",
    "\n",
    "Calcular la transformada de Laplace de \n",
    "$$ g(t) = \\cos At + t\\sin Bt, $$\n",
    "con $A,B \\in \\mathbb{R}$"
   ]
  },
  {
   "cell_type": "code",
   "execution_count": null,
   "metadata": {},
   "outputs": [],
   "source": []
  },
  {
   "cell_type": "markdown",
   "metadata": {},
   "source": [
    "### Ejericicio 05\n",
    "Suponga que $f:[0,\\infty[ \\to \\mathbb{R}$ es continua por partes y de orden exponencial (posee transformada de Laplace). Verifique que:\n",
    "\n",
    "$$\\mathcal{L}\\lbrace t f(t) \\rbrace = -\\dfrac{d}{ds}\\left[ f(t) \\right]$$\n",
    "\n",
    "para una función $f$ a elección."
   ]
  },
  {
   "cell_type": "code",
   "execution_count": null,
   "metadata": {},
   "outputs": [],
   "source": []
  },
  {
   "cell_type": "markdown",
   "metadata": {},
   "source": [
    "### Ejericicio 06\n",
    "\n",
    "Calcular la transformada de Laplace inversa de \n",
    "$$ H(s) = \\dfrac{(s+1)(s-1)}{(s+4)^2} $$"
   ]
  },
  {
   "cell_type": "code",
   "execution_count": null,
   "metadata": {},
   "outputs": [],
   "source": []
  }
 ],
 "metadata": {
  "kernelspec": {
   "display_name": "base",
   "language": "python",
   "name": "python3"
  },
  "language_info": {
   "codemirror_mode": {
    "name": "ipython",
    "version": 3
   },
   "file_extension": ".py",
   "mimetype": "text/x-python",
   "name": "python",
   "nbconvert_exporter": "python",
   "pygments_lexer": "ipython3",
   "version": "3.12.9"
  }
 },
 "nbformat": 4,
 "nbformat_minor": 4
}
