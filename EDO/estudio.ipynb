{
 "cells": [
  {
   "cell_type": "markdown",
   "id": "6145c4b3",
   "metadata": {},
   "source": [
    "Propuesta de taller:\n",
    "\n",
    "1.- Considere la EDO autónoma:\n",
    "dy/dt=e^(-y^2 ) (4y-y^3)\n",
    "\tDetermine todos los puntos de equilibrio en el intervalo [-3, 3] y analice su estabilidad usando el criterio de la derivada.\n",
    "\n",
    "\tConstruya un campo de direcciones que incluya:\n",
    "\tDentro del rango [-3,3]\n",
    "\tVerifique y clasifique respectivamente el o los puntos\n",
    "\n",
    "\tCompare el comportamiento cuando t→∞ para:\n",
    "\ty(0)=1.2\n",
    "\ty(0)=2.5\n"
   ]
  },
  {
   "cell_type": "code",
   "execution_count": 66,
   "id": "cdb5ad03",
   "metadata": {},
   "outputs": [
    {
     "data": {
      "text/latex": [
       "$\\displaystyle \\left(- y^{3}{\\left(x \\right)} + 4 y{\\left(x \\right)}\\right) e^{- y^{2}{\\left(x \\right)}}$"
      ],
      "text/plain": [
       "                      2   \n",
       "⎛   3            ⎞  -y (x)\n",
       "⎝- y (x) + 4⋅y(x)⎠⋅ℯ      "
      ]
     },
     "execution_count": 66,
     "metadata": {},
     "output_type": "execute_result"
    }
   ],
   "source": [
    "import matplotlib.pyplot as plt\n",
    "import numpy as np\n",
    "import sympy as sp\n",
    "from sympy import *\n",
    "from scipy import integrate\n",
    "sp.init_printing(use_latex='mathjax') # Importamos el módulo de latex para imprimir con notación matemática.\n",
    "x = sp.Symbol('x', real=True )\n",
    "y = sp.Function('y')\n",
    "\n",
    "Eq = (sp.exp(-y(x)**2)*(4*y(x)-y(x)**3))\n",
    "Eq"
   ]
  },
  {
   "cell_type": "code",
   "execution_count": 67,
   "id": "7466cf4f",
   "metadata": {},
   "outputs": [],
   "source": [
    "#sp.dsolve(y(x).diff(x) - Eq)\n",
    "#sp.solve(Eq)\n"
   ]
  },
  {
   "cell_type": "code",
   "execution_count": 68,
   "id": "2525401e",
   "metadata": {},
   "outputs": [
    {
     "data": {
      "text/latex": [
       "$\\displaystyle \\left(- y^{3} + 4 y\\right) e^{- y^{2}}$"
      ],
      "text/plain": [
       "                2\n",
       "⎛   3      ⎞  -y \n",
       "⎝- y  + 4⋅y⎠⋅ℯ   "
      ]
     },
     "execution_count": 68,
     "metadata": {},
     "output_type": "execute_result"
    }
   ],
   "source": [
    "y = sp.Symbol('y')\n",
    "\n",
    "Eq = (sp.exp(-y**2)*(4*y-y**3))\n",
    "Eq"
   ]
  },
  {
   "cell_type": "code",
   "execution_count": 69,
   "id": "e820c2ba",
   "metadata": {},
   "outputs": [
    {
     "data": {
      "text/latex": [
       "$\\displaystyle \\left[ -2, \\  0, \\  2\\right]$"
      ],
      "text/plain": [
       "[-2, 0, 2]"
      ]
     },
     "execution_count": 69,
     "metadata": {},
     "output_type": "execute_result"
    }
   ],
   "source": [
    "sp.solve(Eq)"
   ]
  },
  {
   "cell_type": "code",
   "execution_count": 70,
   "id": "5e630fb7",
   "metadata": {},
   "outputs": [
    {
     "data": {
      "image/png": "[encoded data removed]",
      "text/plain": [
       "<Figure size 640x480 with 1 Axes>"
      ]
     },
     "metadata": {},
     "output_type": "display_data"
    }
   ],
   "source": [
    "X,Y=np.meshgrid(np.linspace(-5,5,21), np.linspace(-5,5,21))\n",
    "\n",
    "U = 1.0\n",
    "V = (np.exp(-Y**2)*(4*Y-Y**3)) #f(x,y)\n",
    "\n",
    "N = np.sqrt(U ** 2 + V ** 2)#Normalizamos los vectores\n",
    "U = U / N\n",
    "V = V / N\n",
    "\n",
    "plt.quiver(X, Y, U, V) #graficamos los vectores con origen en (x,y) y término (u,v)\n",
    "plt.xlim([-5, 5]) #limites en eje x\n",
    "plt.ylim([-5, 5]) #limites en eje y\n",
    "\n",
    "plt.xlabel('x') #etiqueta eje x\n",
    "plt.ylabel('y') #etiqueta eje y\n",
    "plt.grid()# para establecer red en la región\n",
    "\n",
    "# 2 nodo\n",
    "# 0 repulsor \n",
    "# -2 nodo"
   ]
  },
  {
   "cell_type": "code",
   "execution_count": 71,
   "id": "a8a619fc",
   "metadata": {},
   "outputs": [
    {
     "data": {
      "text/latex": [
       "$\\displaystyle y{\\left(x \\right)} = 2 \\sqrt{- \\frac{1}{- e^{8 x} - 1.77777777777778}} e^{4 x}$"
      ],
      "text/plain": [
       "              ___________________________     \n",
       "             ╱            -1               4⋅x\n",
       "y(x) = 2⋅   ╱  ───────────────────────── ⋅ℯ   \n",
       "           ╱      8⋅x                         \n",
       "         ╲╱    - ℯ    - 1.77777777777778      "
      ]
     },
     "execution_count": 71,
     "metadata": {},
     "output_type": "execute_result"
    }
   ],
   "source": [
    "x = sp.Symbol('x', real=True )\n",
    "y = sp.Function('y')\n",
    "\n",
    "Eq = ((4*y(x)-y(x)**3))\n",
    "\n",
    "sp.dsolve(y(x).diff(x) - Eq, ics={y(0):1.2})"
   ]
  },
  {
   "cell_type": "markdown",
   "id": "344f3b8b",
   "metadata": {},
   "source": [
    "2.- La carga Q(t) en un capacitor sigue:\n",
    "dQ/dt=  (10-Q^2)/(Q^2+1)-0.2Q\n",
    "\tPara Q(0) = 0, implemente:\n",
    "\tMétodo de Euler con h = 0.1 (200 pasos)\n",
    "\tRK4 con h = 0.4 (50 pasos)\n",
    "\n",
    "\tResuelva la EDO usando Python\n",
    "\n",
    "\tUna vez resuelta calcule el error absoluto, y el porcentaje de error, ¿Fue una buena aproximación, cual estuvo más cerca, y por qué?\n"
   ]
  },
  {
   "cell_type": "code",
   "execution_count": 72,
   "id": "16b70968",
   "metadata": {},
   "outputs": [],
   "source": [
    "import numpy as np\n",
    "import sympy as sp\n",
    "import matplotlib.pyplot as plt\n",
    "\n",
    "sp.init_printing(use_latex='mathjax') \n",
    "\n",
    "x = sp.Symbol('x', real=True)\n",
    "y = sp.Function('y')\n",
    "\n"
   ]
  },
  {
   "cell_type": "code",
   "execution_count": 73,
   "id": "5204e5dd",
   "metadata": {},
   "outputs": [],
   "source": [
    "import matplotlib.pyplot as plt\n",
    "import numpy as np\n",
    "\n",
    "def Euler(f,x0,xn,y0,n): #nuestra función se llama Euler y sus datos de entrada son f,x0,xn,y0,n\n",
    "    X = np.linspace(x0,xn,n+1)         \n",
    "    Y = np.linspace(x0,xn,n+1)                 \n",
    "    Y[0] = y0\n",
    "    h=(xn-x0)/n\n",
    "    for i in range(n):\n",
    "        Y[i+1] = Y[i] + h*f(X[i],Y[i])\n",
    "    return Y"
   ]
  },
  {
   "cell_type": "code",
   "execution_count": 74,
   "id": "4ce1001b",
   "metadata": {},
   "outputs": [],
   "source": [
    "def RK4(f, x0, xn, y0, n):\n",
    "    X = np.linspace(x0,xn,n+1)\n",
    "    Y = np.linspace(x0,xn,n+1)                 \n",
    "    Y[0] = y0\n",
    "    h = (xn-x0)/n     \n",
    "    for i in range(n):\n",
    "        K1=f(X[i],Y[i]) \n",
    "        K2=f(X[i]+h/2,Y[i]+(h/2)*K1) \n",
    "        K3=f(X[i]+h/2,Y[i]+(h/2)*K2) \n",
    "        K4=f(X[i]+h,Y[i]+h*K3)\n",
    "        Y[i+1] = Y[i] +(h/6)*(K1+2*K2+2*K3+K4)\n",
    "    return Y"
   ]
  },
  {
   "cell_type": "code",
   "execution_count": 75,
   "id": "40a9e4e8",
   "metadata": {},
   "outputs": [
    {
     "data": {
      "text/latex": [
       "$\\displaystyle \\frac{10 - y^{2}{\\left(x \\right)}}{y^{2}{\\left(x \\right)} + 1} - 0.2 y{\\left(x \\right)}$"
      ],
      "text/plain": [
       "      2              \n",
       "10 - y (x)           \n",
       "────────── - 0.2⋅y(x)\n",
       " 2                   \n",
       "y (x) + 1            "
      ]
     },
     "execution_count": 75,
     "metadata": {},
     "output_type": "execute_result"
    }
   ],
   "source": [
    "f = ((10 - y(x)**2)/ (y(x)**2 + 1)) - 0.2*y(x)\n",
    "f"
   ]
  },
  {
   "cell_type": "code",
   "execution_count": 76,
   "id": "c274c113",
   "metadata": {},
   "outputs": [],
   "source": [
    "#  h  = xn-x0/n\n",
    "#  0.1 = xn-0 / 200\n",
    "# 0.1*200 = xn\n",
    "# xn = 20"
   ]
  },
  {
   "cell_type": "code",
   "execution_count": 77,
   "id": "796f1f56",
   "metadata": {},
   "outputs": [],
   "source": [
    "def g(x,y): return ((10 - y**2)/ (y**2 + 1)) - 0.2*y"
   ]
  },
  {
   "cell_type": "code",
   "execution_count": 78,
   "id": "f828bdfa",
   "metadata": {},
   "outputs": [
    {
     "data": {
      "text/latex": [
       "$\\displaystyle 2.51391235501216$"
      ],
      "text/plain": [
       "2.5139123550121605"
      ]
     },
     "execution_count": 78,
     "metadata": {},
     "output_type": "execute_result"
    }
   ],
   "source": [
    "euler1 = Euler(g,0,20,0,200)[-1]\n",
    "euler1"
   ]
  },
  {
   "cell_type": "code",
   "execution_count": 79,
   "id": "957793c6",
   "metadata": {},
   "outputs": [
    {
     "data": {
      "text/latex": [
       "$\\displaystyle 2.51391235500144$"
      ],
      "text/plain": [
       "2.513912355001441"
      ]
     },
     "execution_count": 79,
     "metadata": {},
     "output_type": "execute_result"
    }
   ],
   "source": [
    "RK4val = RK4(g, 0, 20, 0, 50)[-1]\n",
    "RK4val"
   ]
  },
  {
   "cell_type": "code",
   "execution_count": 80,
   "id": "cf2cd512",
   "metadata": {},
   "outputs": [
    {
     "data": {
      "text/latex": [
       "$\\displaystyle y{\\left(x \\right)} = 2.51391235501537 - 2.51391235501537 e^{- 1.23223762300991 x}$"
      ],
      "text/plain": [
       "                                            -1.23223762300991⋅x\n",
       "y(x) = 2.51391235501537 - 2.51391235501537⋅ℯ                   "
      ]
     },
     "execution_count": 80,
     "metadata": {},
     "output_type": "execute_result"
    }
   ],
   "source": [
    "x = sp.Symbol('x', real=True )\n",
    "y = sp.Function('y')\n",
    "\n",
    "Eq = ((10 - y(x)**2)/ (y(x)**2 + 1)) - 0.2*y(x)\n",
    "\n",
    "sol = sp.dsolve(y(x).diff(x) - Eq, ics={y(0):0})\n",
    "sol"
   ]
  },
  {
   "cell_type": "code",
   "execution_count": 81,
   "id": "80a0416b",
   "metadata": {},
   "outputs": [],
   "source": [
    "solfinal = sol.rhs.subs(x,20)"
   ]
  },
  {
   "cell_type": "code",
   "execution_count": 82,
   "id": "daa22445",
   "metadata": {},
   "outputs": [
    {
     "data": {
      "text/latex": [
       "$\\displaystyle 1.85361596626567 \\cdot 10^{-9}$"
      ],
      "text/plain": [
       "1.85361596626567e-9"
      ]
     },
     "execution_count": 82,
     "metadata": {},
     "output_type": "execute_result"
    }
   ],
   "source": [
    "np.abs((solfinal - euler1)/solfinal)*100"
   ]
  },
  {
   "cell_type": "code",
   "execution_count": 83,
   "id": "9a3d6e58",
   "metadata": {},
   "outputs": [
    {
     "data": {
      "text/latex": [
       "$\\displaystyle 1.42721186644941 \\cdot 10^{-9}$"
      ],
      "text/plain": [
       "1.42721186644941e-9"
      ]
     },
     "execution_count": 83,
     "metadata": {},
     "output_type": "execute_result"
    }
   ],
   "source": [
    "np.abs((solfinal - RK4val)/solfinal)*100"
   ]
  }
 ],
 "metadata": {
  "kernelspec": {
   "display_name": "base",
   "language": "python",
   "name": "python3"
  },
  "language_info": {
   "codemirror_mode": {
    "name": "ipython",
    "version": 3
   },
   "file_extension": ".py",
   "mimetype": "text/x-python",
   "name": "python",
   "nbconvert_exporter": "python",
   "pygments_lexer": "ipython3",
   "version": "3.12.7"
  }
 },
 "nbformat": 4,
 "nbformat_minor": 5
}
