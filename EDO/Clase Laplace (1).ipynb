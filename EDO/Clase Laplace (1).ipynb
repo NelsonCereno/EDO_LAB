{
 "cells": [
  {
   "cell_type": "code",
   "execution_count": 441,
   "metadata": {},
   "outputs": [],
   "source": [
    "import matplotlib.pyplot as plt\n",
    "import sympy as sp"
   ]
  },
  {
   "cell_type": "markdown",
   "metadata": {},
   "source": [
    "# Transformada de Laplace\n",
    "\n",
    "Si $f(t)$ es una función definida en $[0,\\infty[$ con $t$ y $f$ reales, entonces la transformada de Laplace de la función $f$ se denota por $\\mathcal{L}\\lbrace f(t) \\rbrace = F(s)$ y se define como la integral\n",
    "$$ \\mathcal{L}\\lbrace f(t) \\rbrace = F(s) = \\int_{0}^{\\infty} f(t) e^{-st} dt $$\n",
    "siempre que la anterior sea convergente."
   ]
  },
  {
   "cell_type": "markdown",
   "metadata": {},
   "source": [
    "# Ejemplo 1\n",
    "\n",
    "Integrando de manera directa, calcular $\\mathcal{L}\\lbrace t^3 \\rbrace = \\displaystyle\\int_{0}^{\\infty} t^3 e^{-st } dt$"
   ]
  },
  {
   "cell_type": "code",
   "execution_count": 442,
   "metadata": {},
   "outputs": [
    {
     "data": {
      "text/latex": [
       "$\\displaystyle \\frac{6}{s^{4}}$"
      ],
      "text/plain": [
       "6/s**4"
      ]
     },
     "execution_count": 442,
     "metadata": {},
     "output_type": "execute_result"
    }
   ],
   "source": [
    "t=sp.Symbol(\"t\",real=True)\n",
    "s=sp.Symbol(\"s\",real=True, positive=True)\n",
    "\n",
    "                               #diferencial, cota inferior, cota superior\n",
    "sp.integrate(t**3*sp.exp(-s*t),(t,0,sp.oo))"
   ]
  },
  {
   "cell_type": "markdown",
   "metadata": {},
   "source": [
    "Sympy tiene una función llamada `laplace_transform` que hace esto de manera eficiente y que también retorna condiciones de convergencia de la integral."
   ]
  },
  {
   "cell_type": "code",
   "execution_count": 443,
   "metadata": {},
   "outputs": [
    {
     "data": {
      "text/plain": [
       "(6/s**4, 0, True)"
      ]
     },
     "execution_count": 443,
     "metadata": {},
     "output_type": "execute_result"
    }
   ],
   "source": [
    "#entrega la funcion transformada \n",
    "#argumentos, funcion, variable de la funcion, variable de la transformada\n",
    "sp.laplace_transform(t**3,t,s)"
   ]
  },
  {
   "cell_type": "markdown",
   "metadata": {},
   "source": [
    "Si deseamos solo la función sin importar las condiciones de convergencia, agregamos `noconds=True`"
   ]
  },
  {
   "cell_type": "code",
   "execution_count": 444,
   "metadata": {},
   "outputs": [
    {
     "data": {
      "text/latex": [
       "$\\displaystyle \\frac{6}{s^{4}}$"
      ],
      "text/plain": [
       "6/s**4"
      ]
     },
     "execution_count": 444,
     "metadata": {},
     "output_type": "execute_result"
    }
   ],
   "source": [
    "sp.laplace_transform(t**3,t,s,noconds=True)"
   ]
  },
  {
   "cell_type": "code",
   "execution_count": 445,
   "metadata": {},
   "outputs": [
    {
     "name": "stdout",
     "output_type": "stream",
     "text": [
      "1.13.3\n"
     ]
    }
   ],
   "source": [
    "import sympy\n",
    "print(sympy.__version__)"
   ]
  },
  {
   "cell_type": "code",
   "execution_count": 446,
   "metadata": {},
   "outputs": [
    {
     "data": {
      "text/latex": [
       "$\\displaystyle \\frac{s}{s^{2} + 4}$"
      ],
      "text/plain": [
       "s/(s**2 + 4)"
      ]
     },
     "execution_count": 446,
     "metadata": {},
     "output_type": "execute_result"
    }
   ],
   "source": [
    "#Ejercicio del profe\n",
    "\n",
    "f = sp.cos(2*t+2*sp.pi)\n",
    "sp.laplace_transform(f,t,s,noconds=True)"
   ]
  },
  {
   "cell_type": "code",
   "execution_count": 447,
   "metadata": {},
   "outputs": [
    {
     "data": {
      "text/latex": [
       "$\\displaystyle \\frac{s \\cos{\\left(1 \\right)} + 2 \\cos{\\left(1 - \\frac{\\pi}{2} \\right)}}{s^{2} + 4}$"
      ],
      "text/plain": [
       "(s*cos(1) + 2*cos(1 - pi/2))/(s**2 + 4)"
      ]
     },
     "execution_count": 447,
     "metadata": {},
     "output_type": "execute_result"
    }
   ],
   "source": [
    "#observacion \n",
    "f = sp.cos((2*t)-1)\n",
    "sp.laplace_transform(f,t,s,noconds=True)"
   ]
  },
  {
   "cell_type": "markdown",
   "metadata": {},
   "source": [
    "# Ejemplo 2\n",
    "\n",
    "Calcular transformada de Laplace de $f(t)=\\cos t$ y de $g(t)=\\cosh(2t)$"
   ]
  },
  {
   "cell_type": "markdown",
   "metadata": {},
   "source": []
  },
  {
   "cell_type": "code",
   "execution_count": 448,
   "metadata": {},
   "outputs": [
    {
     "data": {
      "text/latex": [
       "$\\displaystyle \\frac{s}{s^{2} + 1}$"
      ],
      "text/plain": [
       "s/(s**2 + 1)"
      ]
     },
     "execution_count": 448,
     "metadata": {},
     "output_type": "execute_result"
    }
   ],
   "source": [
    "f=sp.cos(t)\n",
    "sp.laplace_transform(f,t,s,noconds=True)"
   ]
  },
  {
   "cell_type": "code",
   "execution_count": 449,
   "metadata": {},
   "outputs": [
    {
     "data": {
      "text/latex": [
       "$\\displaystyle \\frac{s}{s^{2} - 4}$"
      ],
      "text/plain": [
       "s/(s**2 - 4)"
      ]
     },
     "execution_count": 449,
     "metadata": {},
     "output_type": "execute_result"
    }
   ],
   "source": [
    "g=sp.cosh(2*t)\n",
    "sp.laplace_transform(g,t,s,noconds=True)"
   ]
  },
  {
   "cell_type": "markdown",
   "metadata": {},
   "source": [
    "# Ejemplo 3\n",
    "Calcular la transformada inversa de Laplace $F(s)= \\dfrac{1}{s}$"
   ]
  },
  {
   "cell_type": "code",
   "execution_count": 450,
   "metadata": {},
   "outputs": [
    {
     "data": {
      "text/latex": [
       "$\\displaystyle 1$"
      ],
      "text/plain": [
       "1"
      ]
     },
     "execution_count": 450,
     "metadata": {},
     "output_type": "execute_result"
    }
   ],
   "source": [
    "F=1/s\n",
    "t=sp.Symbol(\"t\",real=True,positive=True)\n",
    "sp.inverse_laplace_transform(F,s,t,noconds=True)"
   ]
  },
  {
   "cell_type": "code",
   "execution_count": 451,
   "metadata": {},
   "outputs": [
    {
     "data": {
      "text/latex": [
       "$\\displaystyle 1$"
      ],
      "text/plain": [
       "1"
      ]
     },
     "execution_count": 451,
     "metadata": {},
     "output_type": "execute_result"
    }
   ],
   "source": [
    "\n",
    "sp.Heaviside(t)"
   ]
  },
  {
   "cell_type": "markdown",
   "metadata": {},
   "source": [
    "# Ejemplo 4\n",
    "\n",
    "Calcular transformada de Laplace de $f(t)=e^{-\\alpha t}$ con $\\alpha \\in \\mathbb{R}^+$. Utilice su resultado para calcular su inversa."
   ]
  },
  {
   "cell_type": "code",
   "execution_count": 452,
   "metadata": {},
   "outputs": [
    {
     "data": {
      "text/latex": [
       "$\\displaystyle \\alpha$"
      ],
      "text/plain": [
       "alpha"
      ]
     },
     "execution_count": 452,
     "metadata": {},
     "output_type": "execute_result"
    }
   ],
   "source": [
    "a=sp.Symbol(\"alpha\",real=True,positive=True)\n",
    "a"
   ]
  },
  {
   "cell_type": "code",
   "execution_count": 453,
   "metadata": {},
   "outputs": [
    {
     "data": {
      "text/latex": [
       "$\\displaystyle \\frac{1}{\\alpha + s}$"
      ],
      "text/plain": [
       "1/(alpha + s)"
      ]
     },
     "execution_count": 453,
     "metadata": {},
     "output_type": "execute_result"
    }
   ],
   "source": [
    "f=sp.exp(-a*t)\n",
    "F=sp.laplace_transform(f,t,s,noconds=True)\n",
    "F"
   ]
  },
  {
   "cell_type": "code",
   "execution_count": 454,
   "metadata": {},
   "outputs": [
    {
     "data": {
      "text/latex": [
       "$\\displaystyle e^{- \\alpha t}$"
      ],
      "text/plain": [
       "exp(-alpha*t)"
      ]
     },
     "execution_count": 454,
     "metadata": {},
     "output_type": "execute_result"
    }
   ],
   "source": [
    "sp.inverse_laplace_transform(F,s,t,noconds=True)"
   ]
  },
  {
   "cell_type": "markdown",
   "metadata": {},
   "source": [
    "# Ejemplo 5\n",
    "\n",
    "Calcular la transformada de Laplace de \n",
    "$$ g(t) = \\cos At + \\sin Bt, $$\n",
    "con $A,B \\in \\mathbb{R}$"
   ]
  },
  {
   "cell_type": "code",
   "execution_count": 455,
   "metadata": {},
   "outputs": [
    {
     "data": {
      "text/latex": [
       "$\\displaystyle a$"
      ],
      "text/plain": [
       "a"
      ]
     },
     "execution_count": 455,
     "metadata": {},
     "output_type": "execute_result"
    }
   ],
   "source": [
    "a, b = sp.symbols(\"a, b\", real = True) #símbolos\n",
    "a"
   ]
  },
  {
   "cell_type": "code",
   "execution_count": 456,
   "metadata": {},
   "outputs": [
    {
     "data": {
      "text/latex": [
       "$\\displaystyle b$"
      ],
      "text/plain": [
       "b"
      ]
     },
     "execution_count": 456,
     "metadata": {},
     "output_type": "execute_result"
    }
   ],
   "source": [
    "b"
   ]
  },
  {
   "cell_type": "code",
   "execution_count": 457,
   "metadata": {},
   "outputs": [
    {
     "data": {
      "text/latex": [
       "$\\displaystyle \\sin{\\left(b t \\right)} + \\cos{\\left(a t \\right)}$"
      ],
      "text/plain": [
       "sin(b*t) + cos(a*t)"
      ]
     },
     "execution_count": 457,
     "metadata": {},
     "output_type": "execute_result"
    }
   ],
   "source": [
    "g = sp.cos(a*t) + sp.sin(b*t)\n",
    "g"
   ]
  },
  {
   "cell_type": "code",
   "execution_count": 458,
   "metadata": {},
   "outputs": [
    {
     "data": {
      "text/latex": [
       "$\\displaystyle \\frac{b}{b^{2} + s^{2}} + \\frac{s}{a^{2} + s^{2}}$"
      ],
      "text/plain": [
       "b/(b**2 + s**2) + s/(a**2 + s**2)"
      ]
     },
     "execution_count": 458,
     "metadata": {},
     "output_type": "execute_result"
    }
   ],
   "source": [
    "G=sp.laplace_transform(g,t,s,noconds=True)\n",
    "G"
   ]
  },
  {
   "cell_type": "markdown",
   "metadata": {},
   "source": [
    "# Ejemplo 6\n",
    "\n",
    "Suponga que $f:[0,\\infty[ \\to \\mathbb{R}$ es continua por partes y de orden exponencial (posee transformada de Laplace). Verifique que:\n",
    "\n",
    "$$\\mathcal{L}\\lbrace t f(t) \\rbrace = -\\dfrac{d}{ds}{L}\\lbrace\\left[ f(t) \\right]\\rbrace$$\n",
    "\n",
    "para una función $f$ a elección."
   ]
  },
  {
   "cell_type": "code",
   "execution_count": 459,
   "metadata": {},
   "outputs": [
    {
     "data": {
      "text/latex": [
       "$\\displaystyle \\frac{2 s}{s^{4} + 2 s^{2} + 1}$"
      ],
      "text/plain": [
       "2*s/(s**4 + 2*s**2 + 1)"
      ]
     },
     "execution_count": 459,
     "metadata": {},
     "output_type": "execute_result"
    }
   ],
   "source": [
    "#poner simplify si entrega complejos\n",
    "#sp.laplace_transform(t*sp.sin(t),t,s,noconds=True) estaba asi\n",
    "#se eligio el seno para el ejemplo\n",
    "sp.simplify(sp.laplace_transform(t*sp.sin(t),t,s,noconds=True))"
   ]
  },
  {
   "cell_type": "code",
   "execution_count": 460,
   "metadata": {},
   "outputs": [
    {
     "data": {
      "text/latex": [
       "$\\displaystyle \\frac{2 s}{\\left(s^{2} + 1\\right)^{2}}$"
      ],
      "text/plain": [
       "2*s/(s**2 + 1)**2"
      ]
     },
     "execution_count": 460,
     "metadata": {},
     "output_type": "execute_result"
    }
   ],
   "source": [
    "-1*sp.diff((1/(s**2+1)),s)"
   ]
  },
  {
   "cell_type": "markdown",
   "metadata": {},
   "source": [
    "# Ejemplo 7\n",
    "\n",
    "Calcular la transformada de Laplace inversa de \n",
    "$$ H(s) = \\dfrac{(s+1)(s-1)}{(s+4)^2} $$"
   ]
  },
  {
   "cell_type": "code",
   "execution_count": 461,
   "metadata": {},
   "outputs": [
    {
     "data": {
      "text/latex": [
       "$\\displaystyle 15 t e^{- 4 t} \\theta\\left(t\\right) + \\delta\\left(t\\right) - 8 e^{- 4 t} \\theta\\left(t\\right)$"
      ],
      "text/plain": [
       "15*t*exp(-4*t)*Heaviside(t) + DiracDelta(t) - 8*exp(-4*t)*Heaviside(t)"
      ]
     },
     "execution_count": 461,
     "metadata": {},
     "output_type": "execute_result"
    }
   ],
   "source": [
    "t=sp.Symbol(\"t\",real=True,positive=False)\n",
    "H=((s+1)*(s-1))/(s+4)**2\n",
    "sp.inverse_laplace_transform(H,s,t,noconds=True)"
   ]
  },
  {
   "cell_type": "code",
   "execution_count": 462,
   "metadata": {},
   "outputs": [
    {
     "data": {
      "text/latex": [
       "$\\displaystyle 1 - \\frac{8}{s + 4} + \\frac{15}{\\left(s + 4\\right)^{2}}$"
      ],
      "text/plain": [
       "1 - 8/(s + 4) + 15/(s + 4)**2"
      ]
     },
     "execution_count": 462,
     "metadata": {},
     "output_type": "execute_result"
    }
   ],
   "source": [
    "H.apart(s)"
   ]
  },
  {
   "cell_type": "code",
   "execution_count": 463,
   "metadata": {},
   "outputs": [
    {
     "data": {
      "text/latex": [
       "$\\displaystyle 15 t e^{- 4 t} \\theta\\left(t\\right) + \\delta\\left(t\\right) - 8 e^{- 4 t} \\theta\\left(t\\right)$"
      ],
      "text/plain": [
       "15*t*exp(-4*t)*Heaviside(t) + DiracDelta(t) - 8*exp(-4*t)*Heaviside(t)"
      ]
     },
     "execution_count": 463,
     "metadata": {},
     "output_type": "execute_result"
    }
   ],
   "source": [
    "sp.inverse_laplace_transform(H.apart(s),s,t,noconds=True)"
   ]
  },
  {
   "cell_type": "markdown",
   "metadata": {},
   "source": [
    "# Ejemplo 8\n",
    "\n",
    "Usando transformada de la Laplace, resuelva:\n",
    "$$ y''+y+1=\\sin(2t)+\\cos(2t) \\quad ; y(0)=1 ; y'(0)=2$$"
   ]
  },
  {
   "cell_type": "code",
   "execution_count": 464,
   "metadata": {},
   "outputs": [
    {
     "data": {
      "text/latex": [
       "$\\displaystyle \\left(\\frac{8 \\sin{\\left(t \\right)}}{3} + \\frac{7 \\cos{\\left(t \\right)}}{3}\\right) \\theta\\left(t\\right) + \\left(- \\frac{\\sin{\\left(2 t \\right)}}{3} - \\frac{\\cos{\\left(2 t \\right)}}{3}\\right) \\theta\\left(t\\right) - \\theta\\left(t\\right)$"
      ],
      "text/plain": [
       "(8*sin(t)/3 + 7*cos(t)/3)*Heaviside(t) + (-sin(2*t)/3 - cos(2*t)/3)*Heaviside(t) - Heaviside(t)"
      ]
     },
     "execution_count": 464,
     "metadata": {},
     "output_type": "execute_result"
    }
   ],
   "source": [
    "y=sp.inverse_laplace_transform((sp.laplace_transform(sp.sin(2*t)+sp.cos(2*t)-1,t,s,noconds=True)+s+2)/(s**2+1),s,t,noconds=True)\n",
    "y"
   ]
  },
  {
   "cell_type": "code",
   "execution_count": null,
   "metadata": {},
   "outputs": [],
   "source": []
  },
  {
   "cell_type": "markdown",
   "metadata": {},
   "source": []
  },
  {
   "cell_type": "markdown",
   "metadata": {},
   "source": []
  }
 ],
 "metadata": {
  "kernelspec": {
   "display_name": "base",
   "language": "python",
   "name": "python3"
  },
  "language_info": {
   "codemirror_mode": {
    "name": "ipython",
    "version": 3
   },
   "file_extension": ".py",
   "mimetype": "text/x-python",
   "name": "python",
   "nbconvert_exporter": "python",
   "pygments_lexer": "ipython3",
   "version": "3.12.9"
  }
 },
 "nbformat": 4,
 "nbformat_minor": 4
}
